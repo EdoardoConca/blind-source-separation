{
  "cells": [
    {
      "cell_type": "markdown",
      "metadata": {
        "id": "CwuDkFZF0KtI"
      },
      "source": [
        "# Blind Source Separation \n",
        "\n"
      ]
    },
    {
      "cell_type": "markdown",
      "metadata": {
        "id": "FwMpfgV9huNU"
      },
      "source": [
        "### Task \n",
        "The task consists in decomposing an image obtained as a sum of a two images img1 and img2 into its components.\n",
        "\n",
        "The network takes in input the sum img1+img2 and returns the predicted components hat_img1 and hat_img2.\n",
        "\n",
        "No preprocessing is allowed. \n",
        "\n",
        "### Data\n",
        "The source images img1 and img2 come from different datasets: mnist and fashion_mnist, respectively."
      ]
    },
    {
      "cell_type": "markdown",
      "metadata": {
        "id": "1ubxN9iJ5HFl"
      },
      "source": [
        "## Imports\n",
        "The required libraries and classes are included:"
      ]
    },
    {
      "cell_type": "code",
      "execution_count": 1,
      "metadata": {
        "id": "DHeENV9A4UD-"
      },
      "outputs": [],
      "source": [
        "#utilities\n",
        "import numpy as np\n",
        "from sklearn.model_selection import train_test_split\n",
        "import tensorflow as tf\n",
        "import keras as ks\n",
        "import pandas as pd\n",
        "\n",
        "#tensorflow, keras\n",
        "from tensorflow.keras.models import Model\n",
        "from tensorflow.keras.optimizers import Adam\n",
        "from tensorflow.keras import layers\n",
        "from tensorflow.keras.layers import Input, Conv2D, MaxPooling2D, Conv2DTranspose, concatenate, Layer, ReLU\n",
        "from tensorflow.keras.datasets import mnist, fashion_mnist\n",
        "from sklearn.model_selection import train_test_split\n",
        "\n",
        "#plot\n",
        "import plotly.graph_objects as go\n",
        "from matplotlib import pyplot as plt"
      ]
    },
    {
      "cell_type": "markdown",
      "metadata": {
        "id": "O4jyQ7tP6QY8"
      },
      "source": [
        "## Download Data\n",
        "As a first step, the two datasets are loaded."
      ]
    },
    {
      "cell_type": "code",
      "execution_count": 2,
      "metadata": {
        "colab": {
          "base_uri": "https://localhost:8080/"
        },
        "id": "C2edNKGPyVpq",
        "outputId": "5be02b6f-49d0-4e1a-8dff-f4a0097ed621"
      },
      "outputs": [
        {
          "name": "stdout",
          "output_type": "stream",
          "text": [
            "Downloading data from https://storage.googleapis.com/tensorflow/tf-keras-datasets/mnist.npz\n",
            "11493376/11490434 [==============================] - 0s 0us/step\n",
            "11501568/11490434 [==============================] - 0s 0us/step\n",
            "Downloading data from https://storage.googleapis.com/tensorflow/tf-keras-datasets/train-labels-idx1-ubyte.gz\n",
            "32768/29515 [=================================] - 0s 0us/step\n",
            "40960/29515 [=========================================] - 0s 0us/step\n",
            "Downloading data from https://storage.googleapis.com/tensorflow/tf-keras-datasets/train-images-idx3-ubyte.gz\n",
            "26427392/26421880 [==============================] - 0s 0us/step\n",
            "26435584/26421880 [==============================] - 0s 0us/step\n",
            "Downloading data from https://storage.googleapis.com/tensorflow/tf-keras-datasets/t10k-labels-idx1-ubyte.gz\n",
            "16384/5148 [===============================================================================================] - 0s 0us/step\n",
            "Downloading data from https://storage.googleapis.com/tensorflow/tf-keras-datasets/t10k-images-idx3-ubyte.gz\n",
            "4423680/4422102 [==============================] - 0s 0us/step\n",
            "4431872/4422102 [==============================] - 0s 0us/step\n",
            "mnist dataset contains 60000 training images and 10000 test images. Each grayscale image with dimension (28, 28)\n",
            "\n",
            "fashion_mnist dataset contains 60000 images for training and 10000 for testing. Each grayscale image with dimension (28, 28)\n"
          ]
        }
      ],
      "source": [
        "(mnist_x_train, mnist_y_train), (mnist_x_test, mnist_y_test) = mnist.load_data()\n",
        "(fashion_mnist_x_train, fashion_mnist_y_train), (fashion_mnist_x_test, fashion_mnist_y_test) = fashion_mnist.load_data()\n",
        "\n",
        "print(\"mnist dataset contains {} training images and {} test images. Each grayscale image with dimension {}\".format(mnist_x_train.shape[0],mnist_x_test.shape[0],(mnist_x_train.shape[1],mnist_x_train.shape[2])))\n",
        "print()\n",
        "print(\"fashion_mnist dataset contains {} images for training and {} for testing. Each grayscale image with dimension {}\".format(fashion_mnist_x_train.shape[0],fashion_mnist_x_test.shape[0],(fashion_mnist_x_train.shape[1],fashion_mnist_x_train.shape[2])))"
      ]
    },
    {
      "cell_type": "markdown",
      "metadata": {
        "id": "jK4W8ufzezWc"
      },
      "source": [
        "Then we make a normalization and padding step."
      ]
    },
    {
      "cell_type": "code",
      "execution_count": 3,
      "metadata": {
        "colab": {
          "base_uri": "https://localhost:8080/"
        },
        "id": "RuY0mA4_60Jf",
        "outputId": "3c12e1b8-1d2b-45ca-de30-8850c806cd30"
      },
      "outputs": [
        {
          "name": "stdout",
          "output_type": "stream",
          "text": [
            "The dimension of mnist's images after normalization and padding is: \t(32, 32)\n",
            "The dimension of fashion_mnist's images after normalization and padding is: \t(32, 32)\n"
          ]
        }
      ],
      "source": [
        "#normnalize and pad:\n",
        "mnist_x_train = np.pad(mnist_x_train,((0,0),(2,2),(2,2)))/255.\n",
        "mnist_x_test = np.pad(mnist_x_test,((0,0),(2,2),(2,2)))/255.\n",
        "fashion_mnist_x_train = np.pad(fashion_mnist_x_train,((0,0),(2,2),(2,2)))/255.\n",
        "fashion_mnist_x_test = np.pad(fashion_mnist_x_test,((0,0),(2,2),(2,2)))/255.\n",
        "\n",
        "print(\"The dimension of mnist's images after normalization and padding is: \\t{}\".format((mnist_x_train.shape[1],mnist_x_train.shape[2])))\n",
        "print(\"The dimension of fashion_mnist's images after normalization and padding is: \\t{}\".format((fashion_mnist_x_train.shape[1],fashion_mnist_x_train.shape[2])))"
      ]
    },
    {
      "cell_type": "markdown",
      "metadata": {
        "id": "IVYDQ0NYCAGH"
      },
      "source": [
        "The train set of the two datasets is split such that 10% of the train set is assigned as the validation set and the rest, 90%, is used for the training purpose. "
      ]
    },
    {
      "cell_type": "code",
      "execution_count": 4,
      "metadata": {
        "colab": {
          "base_uri": "https://localhost:8080/"
        },
        "id": "lEEL_3FMEMbW",
        "outputId": "7581dc28-cd83-45e7-dd13-3a8ab183f43f"
      },
      "outputs": [
        {
          "name": "stdout",
          "output_type": "stream",
          "text": [
            "Mnist Training set: 54000 images \n",
            "Mnist Validation_set: 6000 images \n",
            "\n",
            "Fashion_mnist Training set: 54000 images \n",
            "Fashion_mnist Validation_set: 6000 images \n"
          ]
        }
      ],
      "source": [
        "mnist_x_train, mnist_x_val, mnist_y_train, mnist_y_val= train_test_split(mnist_x_train,mnist_y_train,test_size=0.1, random_state= 42) \n",
        "fashion_mnist_x_train, fashion_mnist_x_val, fashion_mnist_y_train, fashion_mnist_y_val= train_test_split(fashion_mnist_x_train,fashion_mnist_y_train,test_size=0.1, random_state= 42)\n",
        "\n",
        "print(\"Mnist Training set: {} images \\nMnist Validation_set: {} images \".format(mnist_x_train.shape[0], mnist_x_val.shape[0]))\n",
        "print()\n",
        "print(\"Fashion_mnist Training set: {} images \\nFashion_mnist Validation_set: {} images \".format(fashion_mnist_x_train.shape[0], fashion_mnist_x_val.shape[0]))"
      ]
    },
    {
      "cell_type": "markdown",
      "metadata": {
        "id": "skLsbs1RW8LA"
      },
      "source": [
        "Defining the datagenerator that creates the input and the label images."
      ]
    },
    {
      "cell_type": "code",
      "execution_count": 5,
      "metadata": {
        "id": "UtC3d9gN6eiM"
      },
      "outputs": [],
      "source": [
        "def datagenerator(x1,x2,batchsize):\n",
        "    n1 = x1.shape[0]\n",
        "    n2 = x2.shape[0]\n",
        "    while True:\n",
        "        num1 = np.random.randint(0, n1, batchsize)\n",
        "        num2 = np.random.randint(0, n2, batchsize)\n",
        "\n",
        "        x_data = (x1[num1] + x2[num2]) / 2.0\n",
        "        y_data = np.concatenate((x1[num1], x2[num2]), axis=2)\n",
        "\n",
        "        yield x_data, y_data "
      ]
    },
    {
      "cell_type": "markdown",
      "metadata": {
        "id": "hwIrzbJocxAq"
      },
      "source": [
        "Creation of the three generators, respectively for training,test and the validation."
      ]
    },
    {
      "cell_type": "code",
      "execution_count": 6,
      "metadata": {
        "id": "9oH4um-jEBCF"
      },
      "outputs": [],
      "source": [
        "#datagenerator for training,validation and test:\n",
        "\n",
        "batchsize = 128\n",
        "inputShape = (32,32,1)\n",
        "\n",
        "train_generator = datagenerator(mnist_x_train,fashion_mnist_x_train,batchsize)\n",
        "test_generator = datagenerator(mnist_x_test,fashion_mnist_x_test,20000)\n",
        "val_generator = datagenerator(mnist_x_val,fashion_mnist_x_val,batchsize)"
      ]
    },
    {
      "cell_type": "markdown",
      "metadata": {
        "id": "Sli9gHCCEY_6"
      },
      "source": [
        "## Visualization\n",
        "Show how the two images randomly generated look like."
      ]
    },
    {
      "cell_type": "code",
      "execution_count": 7,
      "metadata": {
        "colab": {
          "base_uri": "https://localhost:8080/",
          "height": 466
        },
        "id": "ZuuVyCFiEWEi",
        "outputId": "db96f679-b296-46cc-e2dc-ceedb0344abc"
      },
      "outputs": [
        {
          "data": {
            "image/png": "[encoded data removed]",
            "text/plain": [
              "<Figure size 432x288 with 1 Axes>"
            ]
          },
          "metadata": {
            "needs_background": "light"
          },
          "output_type": "display_data"
        },
        {
          "data": {
            "image/png": "[encoded data removed]",
            "text/plain": [
              "<Figure size 432x288 with 1 Axes>"
            ]
          },
          "metadata": {
            "needs_background": "light"
          },
          "output_type": "display_data"
        }
      ],
      "source": [
        "x, y = next(train_generator)\n",
        "plt.imshow(x[0],cmap='gray', interpolation='nearest',)\n",
        "plt.show()\n",
        "plt.imshow(y[0], cmap='gray', interpolation='nearest')\n",
        "plt.show()"
      ]
    },
    {
      "cell_type": "markdown",
      "metadata": {
        "id": "eEsOxcLBZPsO"
      },
      "source": [
        "# MODEL\n",
        "\n",
        "The U-Net is an elegant architecture and is maybe the most known network architecture used for segmentation. It uses the concept of fully convolutional networks for this approach and its intent is to capture both the features of the context as well as the localization. The main idea of the implementation is to utilize successive contracting layers, which are immediately followed by the upsampling operators for achieving higher resolution outputs on the input images.\n",
        "\n",
        "So, as a first attempt I tried using a single U-Net taking the cue from the **03/05/2022 Segmentation Laboratory** since the given task looks like an image segmentation problem. However, since we want as ouput an image that is a concatenation of two images coming from different datasets, the idea that led to better results was to use two U-Net in parallel where each of them  focuses on classify and localize pixels coming from a specific dataset (mnist and fashion_mnist) and then the two outputs, coming from the two U-Net are concatenated in order to produce the final 32x64 image composed by the images of the respective datasets.\n",
        "\n",
        "After several attempts, I decided to slightly modify the U-Net networks. In particular:\n",
        "\n",
        "* Another 2 convolution layers per floor have been added (instead of the original 2) for a total of 4 convolution layers for each floor.\n",
        "\n",
        "* After the four convolution layers per floor, a batchnormalization layer has been added, to make the network more stable and speed up the convergence time.\n",
        "\n",
        "These changes from the original model were made to gain the best outcomes possible."
      ]
    },
    {
      "cell_type": "code",
      "execution_count": 8,
      "metadata": {
        "id": "BQTugeTVdsgU"
      },
      "outputs": [],
      "source": [
        "def build_unet(input, n_ch=32, L=4, conv_per_L=2):\n",
        "    \n",
        "    # ENCODER\n",
        "    backup_layers = []\n",
        "    h = input\n",
        "    for l in range(L):\n",
        "\n",
        "        # Each floor in the descent phase\n",
        "        for c in range(conv_per_L):\n",
        "            h = ks.layers.Conv2D(n_ch, 3, 1, padding='same')(h)\n",
        "            h = ks.layers.ReLU()(h)\n",
        "\n",
        "        h = layers.BatchNormalization()(h, training=False)\n",
        "            \n",
        "        if l < L-1:\n",
        "            # Downsample\n",
        "            backup_layers.append(h) \n",
        "            h = ks.layers.MaxPool2D(padding='same')(h)\n",
        "\n",
        "            # Update the channels\n",
        "            n_ch = n_ch * 2\n",
        "\n",
        "    \n",
        "    # DECODER\n",
        "    for l in range(L-1):\n",
        "        # Reduce the channels\n",
        "        n_ch = n_ch // 2\n",
        "\n",
        "        # Upsample\n",
        "        h = ks.layers.Conv2DTranspose(n_ch,2, 2, padding='same')(h)\n",
        "\n",
        "        # Concatenate\n",
        "        h = ks.layers.concatenate([h, backup_layers.pop(-1)])\n",
        "        \n",
        "        # Each floor in the up phase\n",
        "        for c in range(conv_per_L):\n",
        "            h = ks.layers.Conv2D(n_ch, 3, 1, padding='same')(h)\n",
        "            h = ks.layers.ReLU()(h)\n",
        "        \n",
        "        h = layers.BatchNormalization()(h, training=False)\n",
        "        \n",
        "    # Output\n",
        "    y = ks.layers.Conv2D(1, 1)(h)\n",
        "    \n",
        "    return y"
      ]
    },
    {
      "cell_type": "markdown",
      "metadata": {
        "id": "fv-fKip_F-w9"
      },
      "source": [
        "In this case we start with an imput image 32x32x1 and we apply a certain number of filters, whose value is set to 64, n_ch=64. As said above, the 4 convolutional layers per floor, each followed by a ReLu activation layer so that all the negative values are not passed to the next layer, are followed along by the Batch Normalization layer. This is done for a total of 3 floors. \n",
        "Then after creating the two nets, their outputs are Concatenated and then the model is builted.\n",
        "As optimizer, Adam was used as it is a common choice and as loss function I used the mean absolute error."
      ]
    },
    {
      "cell_type": "code",
      "execution_count": 17,
      "metadata": {
        "id": "hMNp5ec4fH-V"
      },
      "outputs": [],
      "source": [
        "x = ks.layers.Input(shape=inputShape,name='input')\n",
        "y1 = build_unet(x,n_ch=64,L=3,conv_per_L=4)\n",
        "y2 = build_unet(x,n_ch=64,L=3,conv_per_L=4)\n",
        "double_unet = layers.Concatenate(axis=2)([y1,y2])\n",
        "model = ks.Model(x,double_unet)"
      ]
    },
    {
      "cell_type": "code",
      "execution_count": 18,
      "metadata": {
        "colab": {
          "base_uri": "https://localhost:8080/",
          "height": 1000
        },
        "id": "rxSkfIm_fI9E",
        "outputId": "246d346a-0f76-493a-a493-7b1b8e90237f"
      },
      "outputs": [
        {
          "name": "stdout",
          "output_type": "stream",
          "text": [
            "Model: \"model_1\"\n",
            "__________________________________________________________________________________________________\n",
            " Layer (type)                   Output Shape         Param #     Connected to                     \n",
            "==================================================================================================\n",
            " input (InputLayer)             [(None, 32, 32, 1)]  0           []                               \n",
            "                                                                                                  \n",
            " conv2d_22 (Conv2D)             (None, 32, 32, 64)   640         ['input[0][0]']                  \n",
            "                                                                                                  \n",
            " conv2d_43 (Conv2D)             (None, 32, 32, 64)   640         ['input[0][0]']                  \n",
            "                                                                                                  \n",
            " re_lu_20 (ReLU)                (None, 32, 32, 64)   0           ['conv2d_22[0][0]']              \n",
            "                                                                                                  \n",
            " re_lu_40 (ReLU)                (None, 32, 32, 64)   0           ['conv2d_43[0][0]']              \n",
            "                                                                                                  \n",
            " conv2d_23 (Conv2D)             (None, 32, 32, 64)   36928       ['re_lu_20[0][0]']               \n",
            "                                                                                                  \n",
            " conv2d_44 (Conv2D)             (None, 32, 32, 64)   36928       ['re_lu_40[0][0]']               \n",
            "                                                                                                  \n",
            " re_lu_21 (ReLU)                (None, 32, 32, 64)   0           ['conv2d_23[0][0]']              \n",
            "                                                                                                  \n",
            " re_lu_41 (ReLU)                (None, 32, 32, 64)   0           ['conv2d_44[0][0]']              \n",
            "                                                                                                  \n",
            " conv2d_24 (Conv2D)             (None, 32, 32, 64)   36928       ['re_lu_21[0][0]']               \n",
            "                                                                                                  \n",
            " conv2d_45 (Conv2D)             (None, 32, 32, 64)   36928       ['re_lu_41[0][0]']               \n",
            "                                                                                                  \n",
            " re_lu_22 (ReLU)                (None, 32, 32, 64)   0           ['conv2d_24[0][0]']              \n",
            "                                                                                                  \n",
            " re_lu_42 (ReLU)                (None, 32, 32, 64)   0           ['conv2d_45[0][0]']              \n",
            "                                                                                                  \n",
            " conv2d_25 (Conv2D)             (None, 32, 32, 64)   36928       ['re_lu_22[0][0]']               \n",
            "                                                                                                  \n",
            " conv2d_46 (Conv2D)             (None, 32, 32, 64)   36928       ['re_lu_42[0][0]']               \n",
            "                                                                                                  \n",
            " re_lu_23 (ReLU)                (None, 32, 32, 64)   0           ['conv2d_25[0][0]']              \n",
            "                                                                                                  \n",
            " re_lu_43 (ReLU)                (None, 32, 32, 64)   0           ['conv2d_46[0][0]']              \n",
            "                                                                                                  \n",
            " batch_normalization_10 (BatchN  (None, 32, 32, 64)  256         ['re_lu_23[0][0]']               \n",
            " ormalization)                                                                                    \n",
            "                                                                                                  \n",
            " batch_normalization_15 (BatchN  (None, 32, 32, 64)  256         ['re_lu_43[0][0]']               \n",
            " ormalization)                                                                                    \n",
            "                                                                                                  \n",
            " max_pooling2d_4 (MaxPooling2D)  (None, 16, 16, 64)  0           ['batch_normalization_10[0][0]'] \n",
            "                                                                                                  \n",
            " max_pooling2d_6 (MaxPooling2D)  (None, 16, 16, 64)  0           ['batch_normalization_15[0][0]'] \n",
            "                                                                                                  \n",
            " conv2d_26 (Conv2D)             (None, 16, 16, 128)  73856       ['max_pooling2d_4[0][0]']        \n",
            "                                                                                                  \n",
            " conv2d_47 (Conv2D)             (None, 16, 16, 128)  73856       ['max_pooling2d_6[0][0]']        \n",
            "                                                                                                  \n",
            " re_lu_24 (ReLU)                (None, 16, 16, 128)  0           ['conv2d_26[0][0]']              \n",
            "                                                                                                  \n",
            " re_lu_44 (ReLU)                (None, 16, 16, 128)  0           ['conv2d_47[0][0]']              \n",
            "                                                                                                  \n",
            " conv2d_27 (Conv2D)             (None, 16, 16, 128)  147584      ['re_lu_24[0][0]']               \n",
            "                                                                                                  \n",
            " conv2d_48 (Conv2D)             (None, 16, 16, 128)  147584      ['re_lu_44[0][0]']               \n",
            "                                                                                                  \n",
            " re_lu_25 (ReLU)                (None, 16, 16, 128)  0           ['conv2d_27[0][0]']              \n",
            "                                                                                                  \n",
            " re_lu_45 (ReLU)                (None, 16, 16, 128)  0           ['conv2d_48[0][0]']              \n",
            "                                                                                                  \n",
            " conv2d_28 (Conv2D)             (None, 16, 16, 128)  147584      ['re_lu_25[0][0]']               \n",
            "                                                                                                  \n",
            " conv2d_49 (Conv2D)             (None, 16, 16, 128)  147584      ['re_lu_45[0][0]']               \n",
            "                                                                                                  \n",
            " re_lu_26 (ReLU)                (None, 16, 16, 128)  0           ['conv2d_28[0][0]']              \n",
            "                                                                                                  \n",
            " re_lu_46 (ReLU)                (None, 16, 16, 128)  0           ['conv2d_49[0][0]']              \n",
            "                                                                                                  \n",
            " conv2d_29 (Conv2D)             (None, 16, 16, 128)  147584      ['re_lu_26[0][0]']               \n",
            "                                                                                                  \n",
            " conv2d_50 (Conv2D)             (None, 16, 16, 128)  147584      ['re_lu_46[0][0]']               \n",
            "                                                                                                  \n",
            " re_lu_27 (ReLU)                (None, 16, 16, 128)  0           ['conv2d_29[0][0]']              \n",
            "                                                                                                  \n",
            " re_lu_47 (ReLU)                (None, 16, 16, 128)  0           ['conv2d_50[0][0]']              \n",
            "                                                                                                  \n",
            " batch_normalization_11 (BatchN  (None, 16, 16, 128)  512        ['re_lu_27[0][0]']               \n",
            " ormalization)                                                                                    \n",
            "                                                                                                  \n",
            " batch_normalization_16 (BatchN  (None, 16, 16, 128)  512        ['re_lu_47[0][0]']               \n",
            " ormalization)                                                                                    \n",
            "                                                                                                  \n",
            " max_pooling2d_5 (MaxPooling2D)  (None, 8, 8, 128)   0           ['batch_normalization_11[0][0]'] \n",
            "                                                                                                  \n",
            " max_pooling2d_7 (MaxPooling2D)  (None, 8, 8, 128)   0           ['batch_normalization_16[0][0]'] \n",
            "                                                                                                  \n",
            " conv2d_30 (Conv2D)             (None, 8, 8, 256)    295168      ['max_pooling2d_5[0][0]']        \n",
            "                                                                                                  \n",
            " conv2d_51 (Conv2D)             (None, 8, 8, 256)    295168      ['max_pooling2d_7[0][0]']        \n",
            "                                                                                                  \n",
            " re_lu_28 (ReLU)                (None, 8, 8, 256)    0           ['conv2d_30[0][0]']              \n",
            "                                                                                                  \n",
            " re_lu_48 (ReLU)                (None, 8, 8, 256)    0           ['conv2d_51[0][0]']              \n",
            "                                                                                                  \n",
            " conv2d_31 (Conv2D)             (None, 8, 8, 256)    590080      ['re_lu_28[0][0]']               \n",
            "                                                                                                  \n",
            " conv2d_52 (Conv2D)             (None, 8, 8, 256)    590080      ['re_lu_48[0][0]']               \n",
            "                                                                                                  \n",
            " re_lu_29 (ReLU)                (None, 8, 8, 256)    0           ['conv2d_31[0][0]']              \n",
            "                                                                                                  \n",
            " re_lu_49 (ReLU)                (None, 8, 8, 256)    0           ['conv2d_52[0][0]']              \n",
            "                                                                                                  \n",
            " conv2d_32 (Conv2D)             (None, 8, 8, 256)    590080      ['re_lu_29[0][0]']               \n",
            "                                                                                                  \n",
            " conv2d_53 (Conv2D)             (None, 8, 8, 256)    590080      ['re_lu_49[0][0]']               \n",
            "                                                                                                  \n",
            " re_lu_30 (ReLU)                (None, 8, 8, 256)    0           ['conv2d_32[0][0]']              \n",
            "                                                                                                  \n",
            " re_lu_50 (ReLU)                (None, 8, 8, 256)    0           ['conv2d_53[0][0]']              \n",
            "                                                                                                  \n",
            " conv2d_33 (Conv2D)             (None, 8, 8, 256)    590080      ['re_lu_30[0][0]']               \n",
            "                                                                                                  \n",
            " conv2d_54 (Conv2D)             (None, 8, 8, 256)    590080      ['re_lu_50[0][0]']               \n",
            "                                                                                                  \n",
            " re_lu_31 (ReLU)                (None, 8, 8, 256)    0           ['conv2d_33[0][0]']              \n",
            "                                                                                                  \n",
            " re_lu_51 (ReLU)                (None, 8, 8, 256)    0           ['conv2d_54[0][0]']              \n",
            "                                                                                                  \n",
            " batch_normalization_12 (BatchN  (None, 8, 8, 256)   1024        ['re_lu_31[0][0]']               \n",
            " ormalization)                                                                                    \n",
            "                                                                                                  \n",
            " batch_normalization_17 (BatchN  (None, 8, 8, 256)   1024        ['re_lu_51[0][0]']               \n",
            " ormalization)                                                                                    \n",
            "                                                                                                  \n",
            " conv2d_transpose_4 (Conv2DTran  (None, 16, 16, 128)  131200     ['batch_normalization_12[0][0]'] \n",
            " spose)                                                                                           \n",
            "                                                                                                  \n",
            " conv2d_transpose_6 (Conv2DTran  (None, 16, 16, 128)  131200     ['batch_normalization_17[0][0]'] \n",
            " spose)                                                                                           \n",
            "                                                                                                  \n",
            " concatenate_5 (Concatenate)    (None, 16, 16, 256)  0           ['conv2d_transpose_4[0][0]',     \n",
            "                                                                  'batch_normalization_11[0][0]'] \n",
            "                                                                                                  \n",
            " concatenate_7 (Concatenate)    (None, 16, 16, 256)  0           ['conv2d_transpose_6[0][0]',     \n",
            "                                                                  'batch_normalization_16[0][0]'] \n",
            "                                                                                                  \n",
            " conv2d_34 (Conv2D)             (None, 16, 16, 128)  295040      ['concatenate_5[0][0]']          \n",
            "                                                                                                  \n",
            " conv2d_55 (Conv2D)             (None, 16, 16, 128)  295040      ['concatenate_7[0][0]']          \n",
            "                                                                                                  \n",
            " re_lu_32 (ReLU)                (None, 16, 16, 128)  0           ['conv2d_34[0][0]']              \n",
            "                                                                                                  \n",
            " re_lu_52 (ReLU)                (None, 16, 16, 128)  0           ['conv2d_55[0][0]']              \n",
            "                                                                                                  \n",
            " conv2d_35 (Conv2D)             (None, 16, 16, 128)  147584      ['re_lu_32[0][0]']               \n",
            "                                                                                                  \n",
            " conv2d_56 (Conv2D)             (None, 16, 16, 128)  147584      ['re_lu_52[0][0]']               \n",
            "                                                                                                  \n",
            " re_lu_33 (ReLU)                (None, 16, 16, 128)  0           ['conv2d_35[0][0]']              \n",
            "                                                                                                  \n",
            " re_lu_53 (ReLU)                (None, 16, 16, 128)  0           ['conv2d_56[0][0]']              \n",
            "                                                                                                  \n",
            " conv2d_36 (Conv2D)             (None, 16, 16, 128)  147584      ['re_lu_33[0][0]']               \n",
            "                                                                                                  \n",
            " conv2d_57 (Conv2D)             (None, 16, 16, 128)  147584      ['re_lu_53[0][0]']               \n",
            "                                                                                                  \n",
            " re_lu_34 (ReLU)                (None, 16, 16, 128)  0           ['conv2d_36[0][0]']              \n",
            "                                                                                                  \n",
            " re_lu_54 (ReLU)                (None, 16, 16, 128)  0           ['conv2d_57[0][0]']              \n",
            "                                                                                                  \n",
            " conv2d_37 (Conv2D)             (None, 16, 16, 128)  147584      ['re_lu_34[0][0]']               \n",
            "                                                                                                  \n",
            " conv2d_58 (Conv2D)             (None, 16, 16, 128)  147584      ['re_lu_54[0][0]']               \n",
            "                                                                                                  \n",
            " re_lu_35 (ReLU)                (None, 16, 16, 128)  0           ['conv2d_37[0][0]']              \n",
            "                                                                                                  \n",
            " re_lu_55 (ReLU)                (None, 16, 16, 128)  0           ['conv2d_58[0][0]']              \n",
            "                                                                                                  \n",
            " batch_normalization_13 (BatchN  (None, 16, 16, 128)  512        ['re_lu_35[0][0]']               \n",
            " ormalization)                                                                                    \n",
            "                                                                                                  \n",
            " batch_normalization_18 (BatchN  (None, 16, 16, 128)  512        ['re_lu_55[0][0]']               \n",
            " ormalization)                                                                                    \n",
            "                                                                                                  \n",
            " conv2d_transpose_5 (Conv2DTran  (None, 32, 32, 64)  32832       ['batch_normalization_13[0][0]'] \n",
            " spose)                                                                                           \n",
            "                                                                                                  \n",
            " conv2d_transpose_7 (Conv2DTran  (None, 32, 32, 64)  32832       ['batch_normalization_18[0][0]'] \n",
            " spose)                                                                                           \n",
            "                                                                                                  \n",
            " concatenate_6 (Concatenate)    (None, 32, 32, 128)  0           ['conv2d_transpose_5[0][0]',     \n",
            "                                                                  'batch_normalization_10[0][0]'] \n",
            "                                                                                                  \n",
            " concatenate_8 (Concatenate)    (None, 32, 32, 128)  0           ['conv2d_transpose_7[0][0]',     \n",
            "                                                                  'batch_normalization_15[0][0]'] \n",
            "                                                                                                  \n",
            " conv2d_38 (Conv2D)             (None, 32, 32, 64)   73792       ['concatenate_6[0][0]']          \n",
            "                                                                                                  \n",
            " conv2d_59 (Conv2D)             (None, 32, 32, 64)   73792       ['concatenate_8[0][0]']          \n",
            "                                                                                                  \n",
            " re_lu_36 (ReLU)                (None, 32, 32, 64)   0           ['conv2d_38[0][0]']              \n",
            "                                                                                                  \n",
            " re_lu_56 (ReLU)                (None, 32, 32, 64)   0           ['conv2d_59[0][0]']              \n",
            "                                                                                                  \n",
            " conv2d_39 (Conv2D)             (None, 32, 32, 64)   36928       ['re_lu_36[0][0]']               \n",
            "                                                                                                  \n",
            " conv2d_60 (Conv2D)             (None, 32, 32, 64)   36928       ['re_lu_56[0][0]']               \n",
            "                                                                                                  \n",
            " re_lu_37 (ReLU)                (None, 32, 32, 64)   0           ['conv2d_39[0][0]']              \n",
            "                                                                                                  \n",
            " re_lu_57 (ReLU)                (None, 32, 32, 64)   0           ['conv2d_60[0][0]']              \n",
            "                                                                                                  \n",
            " conv2d_40 (Conv2D)             (None, 32, 32, 64)   36928       ['re_lu_37[0][0]']               \n",
            "                                                                                                  \n",
            " conv2d_61 (Conv2D)             (None, 32, 32, 64)   36928       ['re_lu_57[0][0]']               \n",
            "                                                                                                  \n",
            " re_lu_38 (ReLU)                (None, 32, 32, 64)   0           ['conv2d_40[0][0]']              \n",
            "                                                                                                  \n",
            " re_lu_58 (ReLU)                (None, 32, 32, 64)   0           ['conv2d_61[0][0]']              \n",
            "                                                                                                  \n",
            " conv2d_41 (Conv2D)             (None, 32, 32, 64)   36928       ['re_lu_38[0][0]']               \n",
            "                                                                                                  \n",
            " conv2d_62 (Conv2D)             (None, 32, 32, 64)   36928       ['re_lu_58[0][0]']               \n",
            "                                                                                                  \n",
            " re_lu_39 (ReLU)                (None, 32, 32, 64)   0           ['conv2d_41[0][0]']              \n",
            "                                                                                                  \n",
            " re_lu_59 (ReLU)                (None, 32, 32, 64)   0           ['conv2d_62[0][0]']              \n",
            "                                                                                                  \n",
            " batch_normalization_14 (BatchN  (None, 32, 32, 64)  256         ['re_lu_39[0][0]']               \n",
            " ormalization)                                                                                    \n",
            "                                                                                                  \n",
            " batch_normalization_19 (BatchN  (None, 32, 32, 64)  256         ['re_lu_59[0][0]']               \n",
            " ormalization)                                                                                    \n",
            "                                                                                                  \n",
            " conv2d_42 (Conv2D)             (None, 32, 32, 1)    65          ['batch_normalization_14[0][0]'] \n",
            "                                                                                                  \n",
            " conv2d_63 (Conv2D)             (None, 32, 32, 1)    65          ['batch_normalization_19[0][0]'] \n",
            "                                                                                                  \n",
            " concatenate_9 (Concatenate)    (None, 32, 64, 1)    0           ['conv2d_42[0][0]',              \n",
            "                                                                  'conv2d_63[0][0]']              \n",
            "                                                                                                  \n",
            "==================================================================================================\n",
            "Total params: 7,564,930\n",
            "Trainable params: 7,562,370\n",
            "Non-trainable params: 2,560\n",
            "__________________________________________________________________________________________________\n"
          ]
        },
        {
          "data": {
            "text/plain": [
              "None"
            ]
          },
          "metadata": {},
          "output_type": "display_data"
        }
      ],
      "source": [
        "model.compile(optimizer=tf.keras.optimizers.Adam(learning_rate=1e-3),\n",
        "                  loss='mae',\n",
        "                  metrics=['mse'])\n",
        "display(model.summary())"
      ]
    },
    {
      "cell_type": "markdown",
      "metadata": {
        "id": "Tr7tzHe4fZmc"
      },
      "source": [
        "# Training the Model\n",
        "The model has been trained considering an EarlyStopping callback in order to avoid wasting time when the model tends to overfit and to recover the best obtained weights.\n",
        "In addition I used the ReduceLROnPlateu callback, starting from an initial value of `lr=1e-3`, with a reduction factor set to 0.5 in order to reduce the learning rate when the metric has stopped improving.\n"
      ]
    },
    {
      "cell_type": "code",
      "execution_count": 19,
      "metadata": {
        "id": "XV1OIT8ztOGz"
      },
      "outputs": [],
      "source": [
        "es = tf.keras.callbacks.EarlyStopping(monitor='val_loss', patience=10, min_delta=1e-6, restore_best_weights=True)\n",
        "lr = tf.keras.callbacks.ReduceLROnPlateau(monitor=\"val_loss\",factor=0.5,patience=5,verbose=1,mode=\"min\",min_delta=1e-4,cooldown=0,min_lr=0,)\n",
        "my_callbacks = [es, lr]"
      ]
    },
    {
      "cell_type": "markdown",
      "metadata": {
        "id": "vPN00HfqtNQS"
      },
      "source": [
        "Then, the following settings regarding epochs,step_per_epochs and validation_steps were made."
      ]
    },
    {
      "cell_type": "code",
      "execution_count": 20,
      "metadata": {
        "colab": {
          "base_uri": "https://localhost:8080/"
        },
        "id": "0Pp3qsfWfM_M",
        "outputId": "db129bcf-3c44-4543-ba22-2e66f20ff9dc"
      },
      "outputs": [
        {
          "name": "stdout",
          "output_type": "stream",
          "text": [
            "Epoch 1/200\n",
            "500/500 [==============================] - 64s 122ms/step - loss: 0.0379 - mse: 0.0131 - val_loss: 0.0155 - val_mse: 0.0027 - lr: 0.0010\n",
            "Epoch 2/200\n",
            "500/500 [==============================] - 61s 121ms/step - loss: 0.0140 - mse: 0.0022 - val_loss: 0.0104 - val_mse: 0.0014 - lr: 0.0010\n",
            "Epoch 3/200\n",
            "500/500 [==============================] - 61s 121ms/step - loss: 0.0107 - mse: 0.0015 - val_loss: 0.0094 - val_mse: 0.0013 - lr: 0.0010\n",
            "Epoch 4/200\n",
            "500/500 [==============================] - 61s 121ms/step - loss: 0.0098 - mse: 0.0012 - val_loss: 0.0084 - val_mse: 0.0011 - lr: 0.0010\n",
            "Epoch 5/200\n",
            "500/500 [==============================] - 61s 121ms/step - loss: 0.0092 - mse: 0.0011 - val_loss: 0.0135 - val_mse: 0.0016 - lr: 0.0010\n",
            "Epoch 6/200\n",
            "500/500 [==============================] - 61s 121ms/step - loss: 0.0089 - mse: 0.0010 - val_loss: 0.0088 - val_mse: 0.0010 - lr: 0.0010\n",
            "Epoch 7/200\n",
            "500/500 [==============================] - 61s 121ms/step - loss: 0.0080 - mse: 9.2327e-04 - val_loss: 0.0075 - val_mse: 8.9020e-04 - lr: 0.0010\n",
            "Epoch 8/200\n",
            "500/500 [==============================] - 61s 121ms/step - loss: 0.0077 - mse: 8.6585e-04 - val_loss: 0.0068 - val_mse: 7.7835e-04 - lr: 0.0010\n",
            "Epoch 9/200\n",
            "500/500 [==============================] - 61s 121ms/step - loss: 0.0076 - mse: 8.5644e-04 - val_loss: 0.0069 - val_mse: 8.0249e-04 - lr: 0.0010\n",
            "Epoch 10/200\n",
            "500/500 [==============================] - 61s 121ms/step - loss: 0.0071 - mse: 7.8190e-04 - val_loss: 0.0067 - val_mse: 8.2172e-04 - lr: 0.0010\n",
            "Epoch 11/200\n",
            "500/500 [==============================] - 61s 121ms/step - loss: 0.0072 - mse: 7.9550e-04 - val_loss: 0.0069 - val_mse: 8.0415e-04 - lr: 0.0010\n",
            "Epoch 12/200\n",
            "500/500 [==============================] - 61s 121ms/step - loss: 0.0070 - mse: 7.5015e-04 - val_loss: 0.0069 - val_mse: 7.1028e-04 - lr: 0.0010\n",
            "Epoch 13/200\n",
            "500/500 [==============================] - 61s 121ms/step - loss: 0.0072 - mse: 7.4508e-04 - val_loss: 0.0073 - val_mse: 7.6399e-04 - lr: 0.0010\n",
            "Epoch 14/200\n",
            "500/500 [==============================] - 61s 121ms/step - loss: 0.0067 - mse: 7.0887e-04 - val_loss: 0.0071 - val_mse: 7.7208e-04 - lr: 0.0010\n",
            "Epoch 15/200\n",
            "500/500 [==============================] - 61s 121ms/step - loss: 0.0063 - mse: 6.7626e-04 - val_loss: 0.0061 - val_mse: 7.1775e-04 - lr: 0.0010\n",
            "Epoch 16/200\n",
            "500/500 [==============================] - 61s 121ms/step - loss: 0.0068 - mse: 6.8536e-04 - val_loss: 0.0065 - val_mse: 7.2356e-04 - lr: 0.0010\n",
            "Epoch 17/200\n",
            "500/500 [==============================] - 61s 121ms/step - loss: 0.0063 - mse: 6.6356e-04 - val_loss: 0.0059 - val_mse: 6.7010e-04 - lr: 0.0010\n",
            "Epoch 18/200\n",
            "500/500 [==============================] - 61s 121ms/step - loss: 0.0064 - mse: 6.6794e-04 - val_loss: 0.0061 - val_mse: 6.3943e-04 - lr: 0.0010\n",
            "Epoch 19/200\n",
            "500/500 [==============================] - 61s 121ms/step - loss: 0.0063 - mse: 6.4088e-04 - val_loss: 0.0059 - val_mse: 6.3271e-04 - lr: 0.0010\n",
            "Epoch 20/200\n",
            "500/500 [==============================] - 61s 121ms/step - loss: 0.0062 - mse: 6.3519e-04 - val_loss: 0.0060 - val_mse: 6.2497e-04 - lr: 0.0010\n",
            "Epoch 21/200\n",
            "500/500 [==============================] - 61s 121ms/step - loss: 0.0062 - mse: 6.2971e-04 - val_loss: 0.0071 - val_mse: 7.3281e-04 - lr: 0.0010\n",
            "Epoch 22/200\n",
            "500/500 [==============================] - ETA: 0s - loss: 0.0059 - mse: 6.0539e-04\n",
            "Epoch 22: ReduceLROnPlateau reducing learning rate to 0.0005000000237487257.\n",
            "500/500 [==============================] - 61s 121ms/step - loss: 0.0059 - mse: 6.0539e-04 - val_loss: 0.0066 - val_mse: 6.4600e-04 - lr: 0.0010\n",
            "Epoch 23/200\n",
            "500/500 [==============================] - 61s 121ms/step - loss: 0.0049 - mse: 5.4083e-04 - val_loss: 0.0050 - val_mse: 5.7293e-04 - lr: 5.0000e-04\n",
            "Epoch 24/200\n",
            "500/500 [==============================] - 61s 121ms/step - loss: 0.0050 - mse: 5.3674e-04 - val_loss: 0.0051 - val_mse: 5.7875e-04 - lr: 5.0000e-04\n",
            "Epoch 25/200\n",
            "500/500 [==============================] - 60s 121ms/step - loss: 0.0050 - mse: 5.2493e-04 - val_loss: 0.0051 - val_mse: 5.4165e-04 - lr: 5.0000e-04\n",
            "Epoch 26/200\n",
            "500/500 [==============================] - 61s 121ms/step - loss: 0.0049 - mse: 5.2416e-04 - val_loss: 0.0048 - val_mse: 5.3129e-04 - lr: 5.0000e-04\n",
            "Epoch 27/200\n",
            "500/500 [==============================] - 61s 121ms/step - loss: 0.0049 - mse: 5.2026e-04 - val_loss: 0.0050 - val_mse: 5.4438e-04 - lr: 5.0000e-04\n",
            "Epoch 28/200\n",
            "500/500 [==============================] - 61s 121ms/step - loss: 0.0050 - mse: 5.2666e-04 - val_loss: 0.0056 - val_mse: 5.5387e-04 - lr: 5.0000e-04\n",
            "Epoch 29/200\n",
            "500/500 [==============================] - 61s 121ms/step - loss: 0.0049 - mse: 5.1523e-04 - val_loss: 0.0054 - val_mse: 5.6746e-04 - lr: 5.0000e-04\n",
            "Epoch 30/200\n",
            "500/500 [==============================] - 61s 121ms/step - loss: 0.0052 - mse: 5.1912e-04 - val_loss: 0.0052 - val_mse: 5.5848e-04 - lr: 5.0000e-04\n",
            "Epoch 31/200\n",
            "500/500 [==============================] - ETA: 0s - loss: 0.0048 - mse: 5.1470e-04\n",
            "Epoch 31: ReduceLROnPlateau reducing learning rate to 0.0002500000118743628.\n",
            "500/500 [==============================] - 61s 121ms/step - loss: 0.0048 - mse: 5.1470e-04 - val_loss: 0.0048 - val_mse: 5.1226e-04 - lr: 5.0000e-04\n",
            "Epoch 32/200\n",
            "500/500 [==============================] - 61s 121ms/step - loss: 0.0044 - mse: 4.7908e-04 - val_loss: 0.0045 - val_mse: 5.1988e-04 - lr: 2.5000e-04\n",
            "Epoch 33/200\n",
            "500/500 [==============================] - 61s 121ms/step - loss: 0.0044 - mse: 4.7657e-04 - val_loss: 0.0044 - val_mse: 4.7986e-04 - lr: 2.5000e-04\n",
            "Epoch 34/200\n",
            "500/500 [==============================] - 61s 121ms/step - loss: 0.0044 - mse: 4.7218e-04 - val_loss: 0.0043 - val_mse: 4.7631e-04 - lr: 2.5000e-04\n",
            "Epoch 35/200\n",
            "500/500 [==============================] - 61s 121ms/step - loss: 0.0044 - mse: 4.7529e-04 - val_loss: 0.0042 - val_mse: 4.5786e-04 - lr: 2.5000e-04\n",
            "Epoch 36/200\n",
            "500/500 [==============================] - 60s 121ms/step - loss: 0.0044 - mse: 4.6888e-04 - val_loss: 0.0044 - val_mse: 4.7746e-04 - lr: 2.5000e-04\n",
            "Epoch 37/200\n",
            "500/500 [==============================] - 61s 121ms/step - loss: 0.0044 - mse: 4.6979e-04 - val_loss: 0.0044 - val_mse: 4.6846e-04 - lr: 2.5000e-04\n",
            "Epoch 38/200\n",
            "500/500 [==============================] - 61s 121ms/step - loss: 0.0043 - mse: 4.6662e-04 - val_loss: 0.0043 - val_mse: 4.5720e-04 - lr: 2.5000e-04\n",
            "Epoch 39/200\n",
            "500/500 [==============================] - 60s 121ms/step - loss: 0.0043 - mse: 4.6275e-04 - val_loss: 0.0043 - val_mse: 4.7764e-04 - lr: 2.5000e-04\n",
            "Epoch 40/200\n",
            "500/500 [==============================] - ETA: 0s - loss: 0.0043 - mse: 4.6100e-04\n",
            "Epoch 40: ReduceLROnPlateau reducing learning rate to 0.0001250000059371814.\n",
            "500/500 [==============================] - 61s 121ms/step - loss: 0.0043 - mse: 4.6100e-04 - val_loss: 0.0043 - val_mse: 4.6396e-04 - lr: 2.5000e-04\n",
            "Epoch 41/200\n",
            "500/500 [==============================] - 61s 121ms/step - loss: 0.0041 - mse: 4.4920e-04 - val_loss: 0.0042 - val_mse: 4.7899e-04 - lr: 1.2500e-04\n",
            "Epoch 42/200\n",
            "500/500 [==============================] - 61s 121ms/step - loss: 0.0041 - mse: 4.4876e-04 - val_loss: 0.0040 - val_mse: 4.3225e-04 - lr: 1.2500e-04\n",
            "Epoch 43/200\n",
            "500/500 [==============================] - 60s 121ms/step - loss: 0.0041 - mse: 4.4646e-04 - val_loss: 0.0043 - val_mse: 4.7905e-04 - lr: 1.2500e-04\n",
            "Epoch 44/200\n",
            "500/500 [==============================] - 61s 121ms/step - loss: 0.0041 - mse: 4.4797e-04 - val_loss: 0.0043 - val_mse: 4.7955e-04 - lr: 1.2500e-04\n",
            "Epoch 45/200\n",
            "500/500 [==============================] - 60s 121ms/step - loss: 0.0041 - mse: 4.4219e-04 - val_loss: 0.0042 - val_mse: 4.6292e-04 - lr: 1.2500e-04\n",
            "Epoch 46/200\n",
            "500/500 [==============================] - 61s 121ms/step - loss: 0.0041 - mse: 4.4300e-04 - val_loss: 0.0043 - val_mse: 4.9224e-04 - lr: 1.2500e-04\n",
            "Epoch 47/200\n",
            "500/500 [==============================] - ETA: 0s - loss: 0.0041 - mse: 4.4018e-04\n",
            "Epoch 47: ReduceLROnPlateau reducing learning rate to 6.25000029685907e-05.\n",
            "500/500 [==============================] - 61s 121ms/step - loss: 0.0041 - mse: 4.4018e-04 - val_loss: 0.0041 - val_mse: 4.5537e-04 - lr: 1.2500e-04\n",
            "Epoch 48/200\n",
            "500/500 [==============================] - 61s 121ms/step - loss: 0.0040 - mse: 4.3880e-04 - val_loss: 0.0042 - val_mse: 4.7554e-04 - lr: 6.2500e-05\n",
            "Epoch 49/200\n",
            "500/500 [==============================] - 61s 121ms/step - loss: 0.0040 - mse: 4.3864e-04 - val_loss: 0.0040 - val_mse: 4.5677e-04 - lr: 6.2500e-05\n",
            "Epoch 50/200\n",
            "500/500 [==============================] - 61s 121ms/step - loss: 0.0040 - mse: 4.3573e-04 - val_loss: 0.0040 - val_mse: 4.3729e-04 - lr: 6.2500e-05\n",
            "Epoch 51/200\n",
            "500/500 [==============================] - 61s 121ms/step - loss: 0.0040 - mse: 4.3724e-04 - val_loss: 0.0041 - val_mse: 4.5499e-04 - lr: 6.2500e-05\n",
            "Epoch 52/200\n",
            "500/500 [==============================] - ETA: 0s - loss: 0.0040 - mse: 4.3616e-04\n",
            "Epoch 52: ReduceLROnPlateau reducing learning rate to 3.125000148429535e-05.\n",
            "500/500 [==============================] - 61s 121ms/step - loss: 0.0040 - mse: 4.3616e-04 - val_loss: 0.0041 - val_mse: 4.7387e-04 - lr: 6.2500e-05\n",
            "Epoch 53/200\n",
            "500/500 [==============================] - 60s 121ms/step - loss: 0.0039 - mse: 4.3423e-04 - val_loss: 0.0040 - val_mse: 4.4958e-04 - lr: 3.1250e-05\n",
            "Epoch 54/200\n",
            "500/500 [==============================] - 60s 121ms/step - loss: 0.0039 - mse: 4.2899e-04 - val_loss: 0.0040 - val_mse: 4.3360e-04 - lr: 3.1250e-05\n",
            "Epoch 55/200\n",
            "500/500 [==============================] - 61s 121ms/step - loss: 0.0039 - mse: 4.3110e-04 - val_loss: 0.0039 - val_mse: 4.2729e-04 - lr: 3.1250e-05\n",
            "Epoch 56/200\n",
            "500/500 [==============================] - 61s 121ms/step - loss: 0.0039 - mse: 4.3504e-04 - val_loss: 0.0040 - val_mse: 4.6422e-04 - lr: 3.1250e-05\n",
            "Epoch 57/200\n",
            "500/500 [==============================] - ETA: 0s - loss: 0.0039 - mse: 4.3304e-04\n",
            "Epoch 57: ReduceLROnPlateau reducing learning rate to 1.5625000742147677e-05.\n",
            "500/500 [==============================] - 61s 122ms/step - loss: 0.0039 - mse: 4.3304e-04 - val_loss: 0.0041 - val_mse: 4.7012e-04 - lr: 3.1250e-05\n",
            "Epoch 58/200\n",
            "500/500 [==============================] - 61s 122ms/step - loss: 0.0039 - mse: 4.3032e-04 - val_loss: 0.0039 - val_mse: 4.3743e-04 - lr: 1.5625e-05\n",
            "Epoch 59/200\n",
            "500/500 [==============================] - 61s 122ms/step - loss: 0.0039 - mse: 4.2764e-04 - val_loss: 0.0039 - val_mse: 4.2449e-04 - lr: 1.5625e-05\n",
            "Epoch 60/200\n",
            "500/500 [==============================] - 61s 122ms/step - loss: 0.0039 - mse: 4.3190e-04 - val_loss: 0.0040 - val_mse: 4.5754e-04 - lr: 1.5625e-05\n",
            "Epoch 61/200\n",
            "500/500 [==============================] - 61s 122ms/step - loss: 0.0039 - mse: 4.3051e-04 - val_loss: 0.0040 - val_mse: 4.5535e-04 - lr: 1.5625e-05\n",
            "Epoch 62/200\n",
            "500/500 [==============================] - 61s 121ms/step - loss: 0.0039 - mse: 4.3049e-04 - val_loss: 0.0040 - val_mse: 4.6535e-04 - lr: 1.5625e-05\n",
            "Epoch 63/200\n",
            "500/500 [==============================] - 61s 121ms/step - loss: 0.0039 - mse: 4.2699e-04 - val_loss: 0.0040 - val_mse: 4.5202e-04 - lr: 1.5625e-05\n",
            "Epoch 64/200\n",
            "500/500 [==============================] - ETA: 0s - loss: 0.0039 - mse: 4.2912e-04\n",
            "Epoch 64: ReduceLROnPlateau reducing learning rate to 7.812500371073838e-06.\n",
            "500/500 [==============================] - 61s 121ms/step - loss: 0.0039 - mse: 4.2912e-04 - val_loss: 0.0040 - val_mse: 4.3917e-04 - lr: 1.5625e-05\n",
            "Epoch 65/200\n",
            "500/500 [==============================] - 61s 121ms/step - loss: 0.0039 - mse: 4.2769e-04 - val_loss: 0.0040 - val_mse: 4.6348e-04 - lr: 7.8125e-06\n",
            "Epoch 66/200\n",
            "500/500 [==============================] - 61s 121ms/step - loss: 0.0039 - mse: 4.2654e-04 - val_loss: 0.0039 - val_mse: 4.4565e-04 - lr: 7.8125e-06\n",
            "Epoch 67/200\n",
            "500/500 [==============================] - 61s 121ms/step - loss: 0.0039 - mse: 4.2705e-04 - val_loss: 0.0042 - val_mse: 5.1223e-04 - lr: 7.8125e-06\n",
            "Epoch 68/200\n",
            "500/500 [==============================] - 61s 122ms/step - loss: 0.0039 - mse: 4.2920e-04 - val_loss: 0.0039 - val_mse: 4.4321e-04 - lr: 7.8125e-06\n",
            "Epoch 69/200\n",
            "500/500 [==============================] - ETA: 0s - loss: 0.0039 - mse: 4.2638e-04\n",
            "Epoch 69: ReduceLROnPlateau reducing learning rate to 3.906250185536919e-06.\n",
            "500/500 [==============================] - 61s 121ms/step - loss: 0.0039 - mse: 4.2638e-04 - val_loss: 0.0039 - val_mse: 4.3532e-04 - lr: 7.8125e-06\n",
            "Epoch 70/200\n",
            "500/500 [==============================] - 61s 121ms/step - loss: 0.0039 - mse: 4.2924e-04 - val_loss: 0.0040 - val_mse: 4.5085e-04 - lr: 3.9063e-06\n",
            "Epoch 71/200\n",
            "500/500 [==============================] - 61s 121ms/step - loss: 0.0039 - mse: 4.2823e-04 - val_loss: 0.0040 - val_mse: 4.5700e-04 - lr: 3.9063e-06\n",
            "Epoch 72/200\n",
            "500/500 [==============================] - 61s 121ms/step - loss: 0.0039 - mse: 4.2740e-04 - val_loss: 0.0039 - val_mse: 4.3366e-04 - lr: 3.9063e-06\n",
            "Epoch 73/200\n",
            "500/500 [==============================] - 61s 121ms/step - loss: 0.0039 - mse: 4.2465e-04 - val_loss: 0.0039 - val_mse: 4.2061e-04 - lr: 3.9063e-06\n",
            "Epoch 74/200\n",
            "500/500 [==============================] - ETA: 0s - loss: 0.0039 - mse: 4.2606e-04\n",
            "Epoch 74: ReduceLROnPlateau reducing learning rate to 1.9531250927684596e-06.\n",
            "500/500 [==============================] - 61s 121ms/step - loss: 0.0039 - mse: 4.2606e-04 - val_loss: 0.0041 - val_mse: 4.8500e-04 - lr: 3.9063e-06\n",
            "Epoch 75/200\n",
            "500/500 [==============================] - 61s 121ms/step - loss: 0.0039 - mse: 4.2721e-04 - val_loss: 0.0039 - val_mse: 4.4630e-04 - lr: 1.9531e-06\n",
            "Epoch 76/200\n",
            "500/500 [==============================] - 61s 121ms/step - loss: 0.0039 - mse: 4.2771e-04 - val_loss: 0.0039 - val_mse: 4.4264e-04 - lr: 1.9531e-06\n",
            "Epoch 77/200\n",
            "500/500 [==============================] - 61s 121ms/step - loss: 0.0039 - mse: 4.2836e-04 - val_loss: 0.0039 - val_mse: 4.3278e-04 - lr: 1.9531e-06\n",
            "Epoch 78/200\n",
            "500/500 [==============================] - 61s 121ms/step - loss: 0.0039 - mse: 4.2928e-04 - val_loss: 0.0040 - val_mse: 4.5133e-04 - lr: 1.9531e-06\n",
            "Epoch 79/200\n",
            "500/500 [==============================] - ETA: 0s - loss: 0.0039 - mse: 4.2791e-04\n",
            "Epoch 79: ReduceLROnPlateau reducing learning rate to 9.765625463842298e-07.\n",
            "500/500 [==============================] - 61s 121ms/step - loss: 0.0039 - mse: 4.2791e-04 - val_loss: 0.0040 - val_mse: 4.7202e-04 - lr: 1.9531e-06\n",
            "Epoch 80/200\n",
            "500/500 [==============================] - 61s 121ms/step - loss: 0.0039 - mse: 4.2546e-04 - val_loss: 0.0040 - val_mse: 4.5043e-04 - lr: 9.7656e-07\n",
            "Epoch 81/200\n",
            "500/500 [==============================] - 61s 121ms/step - loss: 0.0039 - mse: 4.2516e-04 - val_loss: 0.0039 - val_mse: 4.3530e-04 - lr: 9.7656e-07\n",
            "Epoch 82/200\n",
            "500/500 [==============================] - 61s 121ms/step - loss: 0.0039 - mse: 4.2504e-04 - val_loss: 0.0039 - val_mse: 4.3475e-04 - lr: 9.7656e-07\n",
            "Epoch 83/200\n",
            "500/500 [==============================] - 61s 121ms/step - loss: 0.0039 - mse: 4.2641e-04 - val_loss: 0.0040 - val_mse: 4.5213e-04 - lr: 9.7656e-07\n"
          ]
        }
      ],
      "source": [
        "steps_per_epoch=500\n",
        "validation_steps=10\n",
        "\n",
        "history=model.fit(\n",
        "    x=train_generator,\n",
        "    epochs=200,\n",
        "    steps_per_epoch=steps_per_epoch,\n",
        "    callbacks=my_callbacks,\n",
        "    validation_data = val_generator,\n",
        "    validation_steps = validation_steps\n",
        ")"
      ]
    },
    {
      "cell_type": "markdown",
      "metadata": {
        "id": "7DTE7R-3fwLv"
      },
      "source": [
        "After training, I plot the results of the loss and of the mean_squared_error during training."
      ]
    },
    {
      "cell_type": "code",
      "execution_count": 40,
      "metadata": {
        "colab": {
          "base_uri": "https://localhost:8080/",
          "height": 1000
        },
        "id": "ApTvhVeXtGH2",
        "outputId": "d3b90b39-4445-4bec-dac6-ab1b5c196164"
      },
      "outputs": [
        {
          "data": {
            "text/html": [
              "<html>\n",
              "<head><meta charset=\"utf-8\" /></head>\n",
              "<body>\n",
              "    <div>            <script src=\"https://cdnjs.cloudflare.com/ajax/libs/mathjax/2.7.5/MathJax.js?config=TeX-AMS-MML_SVG\"></script><script type=\"text/javascript\">if (window.MathJax) {MathJax.Hub.Config({SVG: {font: \"STIX-Web\"}});}</script>                <script type=\"text/javascript\">window.PlotlyConfig = {MathJaxConfig: 'local'};</script>\n",
              "        <script src=\"https://cdn.plot.ly/plotly-2.8.3.min.js\"></script>                <div id=\"1dc2cb38-43ef-445b-9c7b-ad392dca9831\" class=\"plotly-graph-div\" style=\"height:525px; width:100%;\"></div>            <script type=\"text/javascript\">                                    window.PLOTLYENV=window.PLOTLYENV || {};                                    if (document.getElementById(\"1dc2cb38-43ef-445b-9c7b-ad392dca9831\")) {                    Plotly.newPlot(                        \"1dc2cb38-43ef-445b-9c7b-ad392dca9831\",                        [{\"mode\":\"lines+markers\",\"name\":\"loss\",\"x\":[1,2,3,4,5,6,7,8,9,10,11,12,13,14,15,16,17,18,19,20,21,22,23,24,25,26,27,28,29,30,31,32,33,34,35,36,37,38,39,40,41,42,43,44,45,46,47,48,49,50,51,52,53,54,55,56,57,58,59,60,61,62,63,64,65,66,67,68,69,70,71,72,73,74,75,76,77,78,79,80,81,82,83],\"y\":[0.03789118677377701,0.01401897706091404,0.010672623291611671,0.00978089403361082,0.00915506575256586,0.008879105560481548,0.007997896522283554,0.007692758925259113,0.007624828722327948,0.007065414916723967,0.0071810889057815075,0.006959480233490467,0.0071543436497449875,0.006653090473264456,0.00633031502366066,0.006777556147426367,0.0062937382608652115,0.006426852662116289,0.006268196739256382,0.006158101838082075,0.0061834934167563915,0.005878136493265629,0.004913694690912962,0.004998273681849241,0.005024382844567299,0.0049320426769554615,0.004923607688397169,0.004992816597223282,0.004869481548666954,0.005186749622225761,0.004775648005306721,0.004384065978229046,0.004387848544865847,0.004378803074359894,0.004371692426502705,0.004358117934316397,0.004362081177532673,0.004335148259997368,0.004346465226262808,0.0043161530047655106,0.004116665571928024,0.004104779567569494,0.004099335055798292,0.004104178864508867,0.0040778410620987415,0.00408898713067174,0.004057148937135935,0.003990791272372007,0.003994255792349577,0.003983379807323217,0.003975942265242338,0.003979385830461979,0.003946262877434492,0.003924746531993151,0.0039343819953501225,0.003941989503800869,0.003938661888241768,0.003909232094883919,0.0038993225898593664,0.003915759734809399,0.003919282928109169,0.0039042162243276834,0.0038904559332877398,0.00389872957020998,0.0038921390660107136,0.0038894894532859325,0.00387939577922225,0.003887814935296774,0.003878300543874502,0.0038821257185190916,0.00388570805080235,0.003875614842399955,0.0038703319150954485,0.0038713549729436636,0.003864345606416464,0.003873420413583517,0.003883205121383071,0.003880800912156701,0.003880094736814499,0.003860936965793371,0.0038662049919366837,0.003865661332383752,0.0038607607129961252],\"type\":\"scatter\"},{\"mode\":\"lines+markers\",\"name\":\"val_loss\",\"x\":[1,2,3,4,5,6,7,8,9,10,11,12,13,14,15,16,17,18,19,20,21,22,23,24,25,26,27,28,29,30,31,32,33,34,35,36,37,38,39,40,41,42,43,44,45,46,47,48,49,50,51,52,53,54,55,56,57,58,59,60,61,62,63,64,65,66,67,68,69,70,71,72,73,74,75,76,77,78,79,80,81,82,83],\"y\":[0.015474921092391014,0.010444341227412224,0.009364079684019089,0.008406820707023144,0.013501795940101147,0.008756345137953758,0.007527915295213461,0.006849495228379965,0.006871812045574188,0.00668078288435936,0.0069147562608122826,0.006862763315439224,0.0073324451223015785,0.007104679010808468,0.006097609177231789,0.006476343609392643,0.005946476012468338,0.006105103529989719,0.005929084494709969,0.0060296496376395226,0.007103572599589825,0.006567846983671188,0.005014900118112564,0.005084401927888393,0.00506814569234848,0.004846890922635794,0.005043432116508484,0.005631496664136648,0.005439768545329571,0.005174960941076279,0.004837085958570242,0.004471013322472572,0.004430057480931282,0.004307972267270088,0.004179111681878567,0.004374579526484013,0.004370986483991146,0.004333591554313898,0.00432626623660326,0.004272387363016605,0.004220862872898579,0.004030711483210325,0.004288260824978352,0.004290807526558638,0.0042219990864396095,0.00428509246557951,0.004142272286117077,0.004187519196420908,0.0040311249904334545,0.003964417148381472,0.004140509758144617,0.004129328764975071,0.003974120132625103,0.003991777077317238,0.003949461970478296,0.004035969730466604,0.004101070575416088,0.003938388079404831,0.003917183727025986,0.0039676777087152,0.00399872288107872,0.004034160636365414,0.004021836444735527,0.003955247811973095,0.0040073334239423275,0.0039234161376953125,0.004217654000967741,0.0039239670149981976,0.003891925560310483,0.003982845228165388,0.00398003775626421,0.0038833797443658113,0.003857038216665387,0.004058096557855606,0.003945068456232548,0.003930685110390186,0.003874851856380701,0.00395264383405447,0.004043987952172756,0.003951311111450195,0.0038588661700487137,0.0039357710629701614,0.0039771562442183495],\"type\":\"scatter\"}],                        {\"template\":{\"data\":{\"bar\":[{\"error_x\":{\"color\":\"#2a3f5f\"},\"error_y\":{\"color\":\"#2a3f5f\"},\"marker\":{\"line\":{\"color\":\"#E5ECF6\",\"width\":0.5},\"pattern\":{\"fillmode\":\"overlay\",\"size\":10,\"solidity\":0.2}},\"type\":\"bar\"}],\"barpolar\":[{\"marker\":{\"line\":{\"color\":\"#E5ECF6\",\"width\":0.5},\"pattern\":{\"fillmode\":\"overlay\",\"size\":10,\"solidity\":0.2}},\"type\":\"barpolar\"}],\"carpet\":[{\"aaxis\":{\"endlinecolor\":\"#2a3f5f\",\"gridcolor\":\"white\",\"linecolor\":\"white\",\"minorgridcolor\":\"white\",\"startlinecolor\":\"#2a3f5f\"},\"baxis\":{\"endlinecolor\":\"#2a3f5f\",\"gridcolor\":\"white\",\"linecolor\":\"white\",\"minorgridcolor\":\"white\",\"startlinecolor\":\"#2a3f5f\"},\"type\":\"carpet\"}],\"choropleth\":[{\"colorbar\":{\"outlinewidth\":0,\"ticks\":\"\"},\"type\":\"choropleth\"}],\"contour\":[{\"colorbar\":{\"outlinewidth\":0,\"ticks\":\"\"},\"colorscale\":[[0.0,\"#0d0887\"],[0.1111111111111111,\"#46039f\"],[0.2222222222222222,\"#7201a8\"],[0.3333333333333333,\"#9c179e\"],[0.4444444444444444,\"#bd3786\"],[0.5555555555555556,\"#d8576b\"],[0.6666666666666666,\"#ed7953\"],[0.7777777777777778,\"#fb9f3a\"],[0.8888888888888888,\"#fdca26\"],[1.0,\"#f0f921\"]],\"type\":\"contour\"}],\"contourcarpet\":[{\"colorbar\":{\"outlinewidth\":0,\"ticks\":\"\"},\"type\":\"contourcarpet\"}],\"heatmap\":[{\"colorbar\":{\"outlinewidth\":0,\"ticks\":\"\"},\"colorscale\":[[0.0,\"#0d0887\"],[0.1111111111111111,\"#46039f\"],[0.2222222222222222,\"#7201a8\"],[0.3333333333333333,\"#9c179e\"],[0.4444444444444444,\"#bd3786\"],[0.5555555555555556,\"#d8576b\"],[0.6666666666666666,\"#ed7953\"],[0.7777777777777778,\"#fb9f3a\"],[0.8888888888888888,\"#fdca26\"],[1.0,\"#f0f921\"]],\"type\":\"heatmap\"}],\"heatmapgl\":[{\"colorbar\":{\"outlinewidth\":0,\"ticks\":\"\"},\"colorscale\":[[0.0,\"#0d0887\"],[0.1111111111111111,\"#46039f\"],[0.2222222222222222,\"#7201a8\"],[0.3333333333333333,\"#9c179e\"],[0.4444444444444444,\"#bd3786\"],[0.5555555555555556,\"#d8576b\"],[0.6666666666666666,\"#ed7953\"],[0.7777777777777778,\"#fb9f3a\"],[0.8888888888888888,\"#fdca26\"],[1.0,\"#f0f921\"]],\"type\":\"heatmapgl\"}],\"histogram\":[{\"marker\":{\"pattern\":{\"fillmode\":\"overlay\",\"size\":10,\"solidity\":0.2}},\"type\":\"histogram\"}],\"histogram2d\":[{\"colorbar\":{\"outlinewidth\":0,\"ticks\":\"\"},\"colorscale\":[[0.0,\"#0d0887\"],[0.1111111111111111,\"#46039f\"],[0.2222222222222222,\"#7201a8\"],[0.3333333333333333,\"#9c179e\"],[0.4444444444444444,\"#bd3786\"],[0.5555555555555556,\"#d8576b\"],[0.6666666666666666,\"#ed7953\"],[0.7777777777777778,\"#fb9f3a\"],[0.8888888888888888,\"#fdca26\"],[1.0,\"#f0f921\"]],\"type\":\"histogram2d\"}],\"histogram2dcontour\":[{\"colorbar\":{\"outlinewidth\":0,\"ticks\":\"\"},\"colorscale\":[[0.0,\"#0d0887\"],[0.1111111111111111,\"#46039f\"],[0.2222222222222222,\"#7201a8\"],[0.3333333333333333,\"#9c179e\"],[0.4444444444444444,\"#bd3786\"],[0.5555555555555556,\"#d8576b\"],[0.6666666666666666,\"#ed7953\"],[0.7777777777777778,\"#fb9f3a\"],[0.8888888888888888,\"#fdca26\"],[1.0,\"#f0f921\"]],\"type\":\"histogram2dcontour\"}],\"mesh3d\":[{\"colorbar\":{\"outlinewidth\":0,\"ticks\":\"\"},\"type\":\"mesh3d\"}],\"parcoords\":[{\"line\":{\"colorbar\":{\"outlinewidth\":0,\"ticks\":\"\"}},\"type\":\"parcoords\"}],\"pie\":[{\"automargin\":true,\"type\":\"pie\"}],\"scatter\":[{\"marker\":{\"colorbar\":{\"outlinewidth\":0,\"ticks\":\"\"}},\"type\":\"scatter\"}],\"scatter3d\":[{\"line\":{\"colorbar\":{\"outlinewidth\":0,\"ticks\":\"\"}},\"marker\":{\"colorbar\":{\"outlinewidth\":0,\"ticks\":\"\"}},\"type\":\"scatter3d\"}],\"scattercarpet\":[{\"marker\":{\"colorbar\":{\"outlinewidth\":0,\"ticks\":\"\"}},\"type\":\"scattercarpet\"}],\"scattergeo\":[{\"marker\":{\"colorbar\":{\"outlinewidth\":0,\"ticks\":\"\"}},\"type\":\"scattergeo\"}],\"scattergl\":[{\"marker\":{\"colorbar\":{\"outlinewidth\":0,\"ticks\":\"\"}},\"type\":\"scattergl\"}],\"scattermapbox\":[{\"marker\":{\"colorbar\":{\"outlinewidth\":0,\"ticks\":\"\"}},\"type\":\"scattermapbox\"}],\"scatterpolar\":[{\"marker\":{\"colorbar\":{\"outlinewidth\":0,\"ticks\":\"\"}},\"type\":\"scatterpolar\"}],\"scatterpolargl\":[{\"marker\":{\"colorbar\":{\"outlinewidth\":0,\"ticks\":\"\"}},\"type\":\"scatterpolargl\"}],\"scatterternary\":[{\"marker\":{\"colorbar\":{\"outlinewidth\":0,\"ticks\":\"\"}},\"type\":\"scatterternary\"}],\"surface\":[{\"colorbar\":{\"outlinewidth\":0,\"ticks\":\"\"},\"colorscale\":[[0.0,\"#0d0887\"],[0.1111111111111111,\"#46039f\"],[0.2222222222222222,\"#7201a8\"],[0.3333333333333333,\"#9c179e\"],[0.4444444444444444,\"#bd3786\"],[0.5555555555555556,\"#d8576b\"],[0.6666666666666666,\"#ed7953\"],[0.7777777777777778,\"#fb9f3a\"],[0.8888888888888888,\"#fdca26\"],[1.0,\"#f0f921\"]],\"type\":\"surface\"}],\"table\":[{\"cells\":{\"fill\":{\"color\":\"#EBF0F8\"},\"line\":{\"color\":\"white\"}},\"header\":{\"fill\":{\"color\":\"#C8D4E3\"},\"line\":{\"color\":\"white\"}},\"type\":\"table\"}]},\"layout\":{\"annotationdefaults\":{\"arrowcolor\":\"#2a3f5f\",\"arrowhead\":0,\"arrowwidth\":1},\"autotypenumbers\":\"strict\",\"coloraxis\":{\"colorbar\":{\"outlinewidth\":0,\"ticks\":\"\"}},\"colorscale\":{\"diverging\":[[0,\"#8e0152\"],[0.1,\"#c51b7d\"],[0.2,\"#de77ae\"],[0.3,\"#f1b6da\"],[0.4,\"#fde0ef\"],[0.5,\"#f7f7f7\"],[0.6,\"#e6f5d0\"],[0.7,\"#b8e186\"],[0.8,\"#7fbc41\"],[0.9,\"#4d9221\"],[1,\"#276419\"]],\"sequential\":[[0.0,\"#0d0887\"],[0.1111111111111111,\"#46039f\"],[0.2222222222222222,\"#7201a8\"],[0.3333333333333333,\"#9c179e\"],[0.4444444444444444,\"#bd3786\"],[0.5555555555555556,\"#d8576b\"],[0.6666666666666666,\"#ed7953\"],[0.7777777777777778,\"#fb9f3a\"],[0.8888888888888888,\"#fdca26\"],[1.0,\"#f0f921\"]],\"sequentialminus\":[[0.0,\"#0d0887\"],[0.1111111111111111,\"#46039f\"],[0.2222222222222222,\"#7201a8\"],[0.3333333333333333,\"#9c179e\"],[0.4444444444444444,\"#bd3786\"],[0.5555555555555556,\"#d8576b\"],[0.6666666666666666,\"#ed7953\"],[0.7777777777777778,\"#fb9f3a\"],[0.8888888888888888,\"#fdca26\"],[1.0,\"#f0f921\"]]},\"colorway\":[\"#636efa\",\"#EF553B\",\"#00cc96\",\"#ab63fa\",\"#FFA15A\",\"#19d3f3\",\"#FF6692\",\"#B6E880\",\"#FF97FF\",\"#FECB52\"],\"font\":{\"color\":\"#2a3f5f\"},\"geo\":{\"bgcolor\":\"white\",\"lakecolor\":\"white\",\"landcolor\":\"#E5ECF6\",\"showlakes\":true,\"showland\":true,\"subunitcolor\":\"white\"},\"hoverlabel\":{\"align\":\"left\"},\"hovermode\":\"closest\",\"mapbox\":{\"style\":\"light\"},\"paper_bgcolor\":\"white\",\"plot_bgcolor\":\"#E5ECF6\",\"polar\":{\"angularaxis\":{\"gridcolor\":\"white\",\"linecolor\":\"white\",\"ticks\":\"\"},\"bgcolor\":\"#E5ECF6\",\"radialaxis\":{\"gridcolor\":\"white\",\"linecolor\":\"white\",\"ticks\":\"\"}},\"scene\":{\"xaxis\":{\"backgroundcolor\":\"#E5ECF6\",\"gridcolor\":\"white\",\"gridwidth\":2,\"linecolor\":\"white\",\"showbackground\":true,\"ticks\":\"\",\"zerolinecolor\":\"white\"},\"yaxis\":{\"backgroundcolor\":\"#E5ECF6\",\"gridcolor\":\"white\",\"gridwidth\":2,\"linecolor\":\"white\",\"showbackground\":true,\"ticks\":\"\",\"zerolinecolor\":\"white\"},\"zaxis\":{\"backgroundcolor\":\"#E5ECF6\",\"gridcolor\":\"white\",\"gridwidth\":2,\"linecolor\":\"white\",\"showbackground\":true,\"ticks\":\"\",\"zerolinecolor\":\"white\"}},\"shapedefaults\":{\"line\":{\"color\":\"#2a3f5f\"}},\"ternary\":{\"aaxis\":{\"gridcolor\":\"white\",\"linecolor\":\"white\",\"ticks\":\"\"},\"baxis\":{\"gridcolor\":\"white\",\"linecolor\":\"white\",\"ticks\":\"\"},\"bgcolor\":\"#E5ECF6\",\"caxis\":{\"gridcolor\":\"white\",\"linecolor\":\"white\",\"ticks\":\"\"}},\"title\":{\"x\":0.05},\"xaxis\":{\"automargin\":true,\"gridcolor\":\"white\",\"linecolor\":\"white\",\"ticks\":\"\",\"title\":{\"standoff\":15},\"zerolinecolor\":\"white\",\"zerolinewidth\":2},\"yaxis\":{\"automargin\":true,\"gridcolor\":\"white\",\"linecolor\":\"white\",\"ticks\":\"\",\"title\":{\"standoff\":15},\"zerolinecolor\":\"white\",\"zerolinewidth\":2}}},\"title\":{\"text\":\"loss during training\"},\"legend\":{\"title\":{\"text\":\"Losses\"}},\"xaxis\":{\"title\":{\"text\":\"Epochs\"}}},                        {\"responsive\": true}                    ).then(function(){\n",
              "                            \n",
              "var gd = document.getElementById('1dc2cb38-43ef-445b-9c7b-ad392dca9831');\n",
              "var x = new MutationObserver(function (mutations, observer) {{\n",
              "        var display = window.getComputedStyle(gd).display;\n",
              "        if (!display || display === 'none') {{\n",
              "            console.log([gd, 'removed!']);\n",
              "            Plotly.purge(gd);\n",
              "            observer.disconnect();\n",
              "        }}\n",
              "}});\n",
              "\n",
              "// Listen for the removal of the full notebook cells\n",
              "var notebookContainer = gd.closest('#notebook-container');\n",
              "if (notebookContainer) {{\n",
              "    x.observe(notebookContainer, {childList: true});\n",
              "}}\n",
              "\n",
              "// Listen for the clearing of the current output cell\n",
              "var outputEl = gd.closest('.output');\n",
              "if (outputEl) {{\n",
              "    x.observe(outputEl, {childList: true});\n",
              "}}\n",
              "\n",
              "                        })                };                            </script>        </div>\n",
              "</body>\n",
              "</html>"
            ]
          },
          "metadata": {},
          "output_type": "display_data"
        },
        {
          "data": {
            "text/html": [
              "<html>\n",
              "<head><meta charset=\"utf-8\" /></head>\n",
              "<body>\n",
              "    <div>            <script src=\"https://cdnjs.cloudflare.com/ajax/libs/mathjax/2.7.5/MathJax.js?config=TeX-AMS-MML_SVG\"></script><script type=\"text/javascript\">if (window.MathJax) {MathJax.Hub.Config({SVG: {font: \"STIX-Web\"}});}</script>                <script type=\"text/javascript\">window.PlotlyConfig = {MathJaxConfig: 'local'};</script>\n",
              "        <script src=\"https://cdn.plot.ly/plotly-2.8.3.min.js\"></script>                <div id=\"f8dd38e8-8ca8-4ceb-9a3e-608aca1cd566\" class=\"plotly-graph-div\" style=\"height:525px; width:100%;\"></div>            <script type=\"text/javascript\">                                    window.PLOTLYENV=window.PLOTLYENV || {};                                    if (document.getElementById(\"f8dd38e8-8ca8-4ceb-9a3e-608aca1cd566\")) {                    Plotly.newPlot(                        \"f8dd38e8-8ca8-4ceb-9a3e-608aca1cd566\",                        [{\"mode\":\"lines+markers\",\"name\":\"mse\",\"x\":[1,2,3,4,5,6,7,8,9,10,11,12,13,14,15,16,17,18,19,20,21,22,23,24,25,26,27,28,29,30,31,32,33,34,35,36,37,38,39,40,41,42,43,44,45,46,47,48,49,50,51,52,53,54,55,56,57,58,59,60,61,62,63,64,65,66,67,68,69,70,71,72,73,74,75,76,77,78,79,80,81,82,83],\"y\":[0.013081532903015614,0.0021601305343210697,0.0014700250467285514,0.0012461416190490127,0.0011168307391926646,0.0010475125163793564,0.0009232661686837673,0.0008658534497953951,0.0008564427262172103,0.0007818986778147519,0.0007955009350553155,0.000750151404645294,0.0007450770353898406,0.0007088686106726527,0.0006762563134543598,0.000685357314068824,0.0006635601166635752,0.0006679448415525258,0.0006408810149878263,0.0006351866759359837,0.000629706250037998,0.0006053881370462477,0.0005408310098573565,0.0005367440171539783,0.0005249329842627048,0.0005241612670943141,0.0005202581523917615,0.000526655581779778,0.0005152349476702511,0.000519123743288219,0.000514704966917634,0.00047908350825309753,0.00047657443792559206,0.00047218467807397246,0.0004752900858875364,0.0004688788903877139,0.0004697876865975559,0.00046661781379953027,0.0004627467424143106,0.00046099614701233804,0.00044919538777321577,0.00044875647290609777,0.0004464625963009894,0.00044797491864301264,0.0004421887861099094,0.00044300357694737613,0.00044017782784067094,0.0004387972003314644,0.0004386416112538427,0.00043572677532210946,0.00043723912676796317,0.00043615527101792395,0.00043423115857876837,0.0004289892385713756,0.000431099470006302,0.0004350394883658737,0.00043303630081936717,0.00043032129178754985,0.000427643652074039,0.0004319034924264997,0.0004305063921492547,0.0004304943431634456,0.00042699402547441423,0.00042912468779832125,0.00042768678395077586,0.00042653625132516026,0.00042704615043476224,0.0004291994555387646,0.0004263835435267538,0.0004292391531635076,0.0004282270383555442,0.0004274040402378887,0.0004246541066095233,0.00042605603812262416,0.00042721297359094024,0.00042770669097080827,0.00042836336069740355,0.0004292780067771673,0.0004279051208868623,0.00042546429904177785,0.0004251605714671314,0.0004250435158610344,0.0004264095623511821],\"type\":\"scatter\"},{\"mode\":\"lines+markers\",\"name\":\"val_mse\",\"x\":[1,2,3,4,5,6,7,8,9,10,11,12,13,14,15,16,17,18,19,20,21,22,23,24,25,26,27,28,29,30,31,32,33,34,35,36,37,38,39,40,41,42,43,44,45,46,47,48,49,50,51,52,53,54,55,56,57,58,59,60,61,62,63,64,65,66,67,68,69,70,71,72,73,74,75,76,77,78,79,80,81,82,83],\"y\":[0.002692431677132845,0.0014471543254330754,0.001329226652160287,0.0011259897146373987,0.0016490512061864138,0.001026187906973064,0.00089019734878093,0.0007783483015373349,0.0008024877752177417,0.0008217175491154194,0.0008041459368541837,0.0007102809613570571,0.0007639872492291033,0.0007720778812654316,0.0007177540101110935,0.0007235563243739307,0.0006700963713228703,0.0006394262309186161,0.000632709008641541,0.0006249690195545554,0.0007328102365136147,0.0006460006698034704,0.0005729251424781978,0.000578753009904176,0.0005416477797552943,0.0005312947323545814,0.0005443777190521359,0.0005538720288313925,0.0005674640997312963,0.0005584770115092397,0.00051225780043751,0.000519883818924427,0.00047985586570575833,0.0004763119504787028,0.0004578586667776108,0.00047745677875354886,0.00046846139593981206,0.0004572044999804348,0.00047764359624125063,0.00046396302059292793,0.0004789912491105497,0.00043224653927609324,0.0004790463426616043,0.0004795470158569515,0.00046291755279526114,0.0004922406515106559,0.0004553701728582382,0.00047553936019539833,0.00045677326852455735,0.00043728650780394673,0.00045499467523768544,0.00047386749065481126,0.00044958069338463247,0.00043360493145883083,0.0004272920486982912,0.00046421829028986394,0.00047012409777380526,0.0004374342388473451,0.0004244917945470661,0.000457540329080075,0.00045534950913861394,0.0004653476062230766,0.00045201749890111387,0.00043917432776652277,0.00046348190517164767,0.00044564958079718053,0.0005122289876453578,0.00044320704182609916,0.00043532130075618625,0.00045085232704877853,0.00045699518523178995,0.0004336631973274052,0.0004206142039038241,0.0004850025288760662,0.0004462963552214205,0.0004426424275152385,0.0004327834176365286,0.00045132884406484663,0.00047201933921314776,0.0004504277021624148,0.0004352981341071427,0.00043475060374476016,0.00045212561963126063],\"type\":\"scatter\"}],                        {\"template\":{\"data\":{\"bar\":[{\"error_x\":{\"color\":\"#2a3f5f\"},\"error_y\":{\"color\":\"#2a3f5f\"},\"marker\":{\"line\":{\"color\":\"#E5ECF6\",\"width\":0.5},\"pattern\":{\"fillmode\":\"overlay\",\"size\":10,\"solidity\":0.2}},\"type\":\"bar\"}],\"barpolar\":[{\"marker\":{\"line\":{\"color\":\"#E5ECF6\",\"width\":0.5},\"pattern\":{\"fillmode\":\"overlay\",\"size\":10,\"solidity\":0.2}},\"type\":\"barpolar\"}],\"carpet\":[{\"aaxis\":{\"endlinecolor\":\"#2a3f5f\",\"gridcolor\":\"white\",\"linecolor\":\"white\",\"minorgridcolor\":\"white\",\"startlinecolor\":\"#2a3f5f\"},\"baxis\":{\"endlinecolor\":\"#2a3f5f\",\"gridcolor\":\"white\",\"linecolor\":\"white\",\"minorgridcolor\":\"white\",\"startlinecolor\":\"#2a3f5f\"},\"type\":\"carpet\"}],\"choropleth\":[{\"colorbar\":{\"outlinewidth\":0,\"ticks\":\"\"},\"type\":\"choropleth\"}],\"contour\":[{\"colorbar\":{\"outlinewidth\":0,\"ticks\":\"\"},\"colorscale\":[[0.0,\"#0d0887\"],[0.1111111111111111,\"#46039f\"],[0.2222222222222222,\"#7201a8\"],[0.3333333333333333,\"#9c179e\"],[0.4444444444444444,\"#bd3786\"],[0.5555555555555556,\"#d8576b\"],[0.6666666666666666,\"#ed7953\"],[0.7777777777777778,\"#fb9f3a\"],[0.8888888888888888,\"#fdca26\"],[1.0,\"#f0f921\"]],\"type\":\"contour\"}],\"contourcarpet\":[{\"colorbar\":{\"outlinewidth\":0,\"ticks\":\"\"},\"type\":\"contourcarpet\"}],\"heatmap\":[{\"colorbar\":{\"outlinewidth\":0,\"ticks\":\"\"},\"colorscale\":[[0.0,\"#0d0887\"],[0.1111111111111111,\"#46039f\"],[0.2222222222222222,\"#7201a8\"],[0.3333333333333333,\"#9c179e\"],[0.4444444444444444,\"#bd3786\"],[0.5555555555555556,\"#d8576b\"],[0.6666666666666666,\"#ed7953\"],[0.7777777777777778,\"#fb9f3a\"],[0.8888888888888888,\"#fdca26\"],[1.0,\"#f0f921\"]],\"type\":\"heatmap\"}],\"heatmapgl\":[{\"colorbar\":{\"outlinewidth\":0,\"ticks\":\"\"},\"colorscale\":[[0.0,\"#0d0887\"],[0.1111111111111111,\"#46039f\"],[0.2222222222222222,\"#7201a8\"],[0.3333333333333333,\"#9c179e\"],[0.4444444444444444,\"#bd3786\"],[0.5555555555555556,\"#d8576b\"],[0.6666666666666666,\"#ed7953\"],[0.7777777777777778,\"#fb9f3a\"],[0.8888888888888888,\"#fdca26\"],[1.0,\"#f0f921\"]],\"type\":\"heatmapgl\"}],\"histogram\":[{\"marker\":{\"pattern\":{\"fillmode\":\"overlay\",\"size\":10,\"solidity\":0.2}},\"type\":\"histogram\"}],\"histogram2d\":[{\"colorbar\":{\"outlinewidth\":0,\"ticks\":\"\"},\"colorscale\":[[0.0,\"#0d0887\"],[0.1111111111111111,\"#46039f\"],[0.2222222222222222,\"#7201a8\"],[0.3333333333333333,\"#9c179e\"],[0.4444444444444444,\"#bd3786\"],[0.5555555555555556,\"#d8576b\"],[0.6666666666666666,\"#ed7953\"],[0.7777777777777778,\"#fb9f3a\"],[0.8888888888888888,\"#fdca26\"],[1.0,\"#f0f921\"]],\"type\":\"histogram2d\"}],\"histogram2dcontour\":[{\"colorbar\":{\"outlinewidth\":0,\"ticks\":\"\"},\"colorscale\":[[0.0,\"#0d0887\"],[0.1111111111111111,\"#46039f\"],[0.2222222222222222,\"#7201a8\"],[0.3333333333333333,\"#9c179e\"],[0.4444444444444444,\"#bd3786\"],[0.5555555555555556,\"#d8576b\"],[0.6666666666666666,\"#ed7953\"],[0.7777777777777778,\"#fb9f3a\"],[0.8888888888888888,\"#fdca26\"],[1.0,\"#f0f921\"]],\"type\":\"histogram2dcontour\"}],\"mesh3d\":[{\"colorbar\":{\"outlinewidth\":0,\"ticks\":\"\"},\"type\":\"mesh3d\"}],\"parcoords\":[{\"line\":{\"colorbar\":{\"outlinewidth\":0,\"ticks\":\"\"}},\"type\":\"parcoords\"}],\"pie\":[{\"automargin\":true,\"type\":\"pie\"}],\"scatter\":[{\"marker\":{\"colorbar\":{\"outlinewidth\":0,\"ticks\":\"\"}},\"type\":\"scatter\"}],\"scatter3d\":[{\"line\":{\"colorbar\":{\"outlinewidth\":0,\"ticks\":\"\"}},\"marker\":{\"colorbar\":{\"outlinewidth\":0,\"ticks\":\"\"}},\"type\":\"scatter3d\"}],\"scattercarpet\":[{\"marker\":{\"colorbar\":{\"outlinewidth\":0,\"ticks\":\"\"}},\"type\":\"scattercarpet\"}],\"scattergeo\":[{\"marker\":{\"colorbar\":{\"outlinewidth\":0,\"ticks\":\"\"}},\"type\":\"scattergeo\"}],\"scattergl\":[{\"marker\":{\"colorbar\":{\"outlinewidth\":0,\"ticks\":\"\"}},\"type\":\"scattergl\"}],\"scattermapbox\":[{\"marker\":{\"colorbar\":{\"outlinewidth\":0,\"ticks\":\"\"}},\"type\":\"scattermapbox\"}],\"scatterpolar\":[{\"marker\":{\"colorbar\":{\"outlinewidth\":0,\"ticks\":\"\"}},\"type\":\"scatterpolar\"}],\"scatterpolargl\":[{\"marker\":{\"colorbar\":{\"outlinewidth\":0,\"ticks\":\"\"}},\"type\":\"scatterpolargl\"}],\"scatterternary\":[{\"marker\":{\"colorbar\":{\"outlinewidth\":0,\"ticks\":\"\"}},\"type\":\"scatterternary\"}],\"surface\":[{\"colorbar\":{\"outlinewidth\":0,\"ticks\":\"\"},\"colorscale\":[[0.0,\"#0d0887\"],[0.1111111111111111,\"#46039f\"],[0.2222222222222222,\"#7201a8\"],[0.3333333333333333,\"#9c179e\"],[0.4444444444444444,\"#bd3786\"],[0.5555555555555556,\"#d8576b\"],[0.6666666666666666,\"#ed7953\"],[0.7777777777777778,\"#fb9f3a\"],[0.8888888888888888,\"#fdca26\"],[1.0,\"#f0f921\"]],\"type\":\"surface\"}],\"table\":[{\"cells\":{\"fill\":{\"color\":\"#EBF0F8\"},\"line\":{\"color\":\"white\"}},\"header\":{\"fill\":{\"color\":\"#C8D4E3\"},\"line\":{\"color\":\"white\"}},\"type\":\"table\"}]},\"layout\":{\"annotationdefaults\":{\"arrowcolor\":\"#2a3f5f\",\"arrowhead\":0,\"arrowwidth\":1},\"autotypenumbers\":\"strict\",\"coloraxis\":{\"colorbar\":{\"outlinewidth\":0,\"ticks\":\"\"}},\"colorscale\":{\"diverging\":[[0,\"#8e0152\"],[0.1,\"#c51b7d\"],[0.2,\"#de77ae\"],[0.3,\"#f1b6da\"],[0.4,\"#fde0ef\"],[0.5,\"#f7f7f7\"],[0.6,\"#e6f5d0\"],[0.7,\"#b8e186\"],[0.8,\"#7fbc41\"],[0.9,\"#4d9221\"],[1,\"#276419\"]],\"sequential\":[[0.0,\"#0d0887\"],[0.1111111111111111,\"#46039f\"],[0.2222222222222222,\"#7201a8\"],[0.3333333333333333,\"#9c179e\"],[0.4444444444444444,\"#bd3786\"],[0.5555555555555556,\"#d8576b\"],[0.6666666666666666,\"#ed7953\"],[0.7777777777777778,\"#fb9f3a\"],[0.8888888888888888,\"#fdca26\"],[1.0,\"#f0f921\"]],\"sequentialminus\":[[0.0,\"#0d0887\"],[0.1111111111111111,\"#46039f\"],[0.2222222222222222,\"#7201a8\"],[0.3333333333333333,\"#9c179e\"],[0.4444444444444444,\"#bd3786\"],[0.5555555555555556,\"#d8576b\"],[0.6666666666666666,\"#ed7953\"],[0.7777777777777778,\"#fb9f3a\"],[0.8888888888888888,\"#fdca26\"],[1.0,\"#f0f921\"]]},\"colorway\":[\"#636efa\",\"#EF553B\",\"#00cc96\",\"#ab63fa\",\"#FFA15A\",\"#19d3f3\",\"#FF6692\",\"#B6E880\",\"#FF97FF\",\"#FECB52\"],\"font\":{\"color\":\"#2a3f5f\"},\"geo\":{\"bgcolor\":\"white\",\"lakecolor\":\"white\",\"landcolor\":\"#E5ECF6\",\"showlakes\":true,\"showland\":true,\"subunitcolor\":\"white\"},\"hoverlabel\":{\"align\":\"left\"},\"hovermode\":\"closest\",\"mapbox\":{\"style\":\"light\"},\"paper_bgcolor\":\"white\",\"plot_bgcolor\":\"#E5ECF6\",\"polar\":{\"angularaxis\":{\"gridcolor\":\"white\",\"linecolor\":\"white\",\"ticks\":\"\"},\"bgcolor\":\"#E5ECF6\",\"radialaxis\":{\"gridcolor\":\"white\",\"linecolor\":\"white\",\"ticks\":\"\"}},\"scene\":{\"xaxis\":{\"backgroundcolor\":\"#E5ECF6\",\"gridcolor\":\"white\",\"gridwidth\":2,\"linecolor\":\"white\",\"showbackground\":true,\"ticks\":\"\",\"zerolinecolor\":\"white\"},\"yaxis\":{\"backgroundcolor\":\"#E5ECF6\",\"gridcolor\":\"white\",\"gridwidth\":2,\"linecolor\":\"white\",\"showbackground\":true,\"ticks\":\"\",\"zerolinecolor\":\"white\"},\"zaxis\":{\"backgroundcolor\":\"#E5ECF6\",\"gridcolor\":\"white\",\"gridwidth\":2,\"linecolor\":\"white\",\"showbackground\":true,\"ticks\":\"\",\"zerolinecolor\":\"white\"}},\"shapedefaults\":{\"line\":{\"color\":\"#2a3f5f\"}},\"ternary\":{\"aaxis\":{\"gridcolor\":\"white\",\"linecolor\":\"white\",\"ticks\":\"\"},\"baxis\":{\"gridcolor\":\"white\",\"linecolor\":\"white\",\"ticks\":\"\"},\"bgcolor\":\"#E5ECF6\",\"caxis\":{\"gridcolor\":\"white\",\"linecolor\":\"white\",\"ticks\":\"\"}},\"title\":{\"x\":0.05},\"xaxis\":{\"automargin\":true,\"gridcolor\":\"white\",\"linecolor\":\"white\",\"ticks\":\"\",\"title\":{\"standoff\":15},\"zerolinecolor\":\"white\",\"zerolinewidth\":2},\"yaxis\":{\"automargin\":true,\"gridcolor\":\"white\",\"linecolor\":\"white\",\"ticks\":\"\",\"title\":{\"standoff\":15},\"zerolinecolor\":\"white\",\"zerolinewidth\":2}}},\"title\":{\"text\":\"mse during training\"},\"legend\":{\"title\":{\"text\":\"Losses\"}},\"xaxis\":{\"title\":{\"text\":\"Epochs\"}}},                        {\"responsive\": true}                    ).then(function(){\n",
              "                            \n",
              "var gd = document.getElementById('f8dd38e8-8ca8-4ceb-9a3e-608aca1cd566');\n",
              "var x = new MutationObserver(function (mutations, observer) {{\n",
              "        var display = window.getComputedStyle(gd).display;\n",
              "        if (!display || display === 'none') {{\n",
              "            console.log([gd, 'removed!']);\n",
              "            Plotly.purge(gd);\n",
              "            observer.disconnect();\n",
              "        }}\n",
              "}});\n",
              "\n",
              "// Listen for the removal of the full notebook cells\n",
              "var notebookContainer = gd.closest('#notebook-container');\n",
              "if (notebookContainer) {{\n",
              "    x.observe(notebookContainer, {childList: true});\n",
              "}}\n",
              "\n",
              "// Listen for the clearing of the current output cell\n",
              "var outputEl = gd.closest('.output');\n",
              "if (outputEl) {{\n",
              "    x.observe(outputEl, {childList: true});\n",
              "}}\n",
              "\n",
              "                        })                };                            </script>        </div>\n",
              "</body>\n",
              "</html>"
            ]
          },
          "metadata": {},
          "output_type": "display_data"
        }
      ],
      "source": [
        "def plot_history(model_history,keys):\n",
        "  m,val_m= keys\n",
        "  history = model_history.history[m]\n",
        "  val_history = model_history.history[val_m]\n",
        "\n",
        "  df = pd.DataFrame(dict(\n",
        "      x = range(1,len(history)+1),\n",
        "      y = history, \n",
        "      y_1 = val_history,\n",
        "      ))\n",
        "\n",
        "  fig = go.Figure()\n",
        "  fig.add_trace(go.Scatter(x=df['x'], y=df['y'],\n",
        "                    mode='lines+markers',\n",
        "                    name= m))\n",
        "\n",
        "  fig.add_trace(go.Scatter(x=df['x'], y=df['y_1'],\n",
        "                    mode='lines+markers',\n",
        "                    name= val_m))\n",
        "\n",
        "  fig.update_layout(\n",
        "      title = m + ' during training',\n",
        "      legend_title='Losses',\n",
        "      xaxis_title = 'Epochs'\n",
        "      )\n",
        "\n",
        "  fig.update_xaxes()\n",
        "  fig.show()\n",
        "\n",
        "\n",
        "plot_history(history,['loss','val_loss'])\n",
        "plot_history(history,['mse','val_mse'])\n"
      ]
    },
    {
      "cell_type": "markdown",
      "metadata": {
        "id": "vjvcj60nyfEt"
      },
      "source": [
        "*Loss* and *validation loss*, after a short period in which the val_loss fluctuates a bit, start drecrease together, showing that the model is learning and is not affected by overfitting. Also from the plot of *mse* and *val_mse*, we can see that the model has comparable performance on both train and validation datasets. \n",
        "So it can be seen also that the system starts to get good performance when training at about the 30th epoch. We are now going to save our results and see how the network behaves on a batch of photos."
      ]
    },
    {
      "cell_type": "code",
      "execution_count": 44,
      "metadata": {
        "id": "tJydt6DSy6uH"
      },
      "outputs": [],
      "source": [
        "# cell to save weights after learning the net\n",
        "model.save_weights(\"exam_weights.h5\")"
      ]
    },
    {
      "cell_type": "markdown",
      "metadata": {
        "id": "Y2RDmElSgYf-"
      },
      "source": [
        "# Model Testing and Conclusions\n",
        "Once the network is trained we can see how it behaves with the test data passed through the *test_generator*."
      ]
    },
    {
      "cell_type": "code",
      "execution_count": 26,
      "metadata": {
        "colab": {
          "base_uri": "https://localhost:8080/",
          "height": 666
        },
        "id": "1yhapKQRfhmH",
        "outputId": "c640bc9c-8131-47a1-98c8-4c2a5aa4a724"
      },
      "outputs": [
        {
          "data": {
            "image/png": "[encoded data removed]",
            "text/plain": [
              "<Figure size 432x288 with 1 Axes>"
            ]
          },
          "metadata": {
            "needs_background": "light"
          },
          "output_type": "display_data"
        },
        {
          "data": {
            "image/png": "[encoded data removed]",
            "text/plain": [
              "<Figure size 432x288 with 1 Axes>"
            ]
          },
          "metadata": {
            "needs_background": "light"
          },
          "output_type": "display_data"
        },
        {
          "data": {
            "image/png": "[encoded data removed]",
            "text/plain": [
              "<Figure size 432x288 with 1 Axes>"
            ]
          },
          "metadata": {
            "needs_background": "light"
          },
          "output_type": "display_data"
        }
      ],
      "source": [
        "#getting predictions\n",
        "x_test,y_test=next(test_generator)\n",
        "y_pred=model.predict(x_test)\n",
        "\n",
        "#plot of input and predicted images\n",
        "plt.imshow(x_test[0],cmap='gray')\n",
        "plt.show()\n",
        "plt.imshow(y_test[0],cmap='gray')\n",
        "plt.show()\n",
        "plt.imshow(y_pred[0].reshape(32,64).astype(np.float32),cmap='gray')\n",
        "plt.show()"
      ]
    },
    {
      "cell_type": "markdown",
      "metadata": {
        "id": "clv3BMoq0v4E"
      },
      "source": [
        "It's possible to see that the predicted image it's pretty much the same as the real label image. Now, after defining the following functions for computing the results in terms of mse, we can evaluate the mse over 20000 samples and repeat the computation 10 times in order to check the standard deviation."
      ]
    },
    {
      "cell_type": "code",
      "execution_count": 27,
      "metadata": {
        "id": "_0YwhTRKgH2M"
      },
      "outputs": [],
      "source": [
        "def mse(y, y_pred):\n",
        "    m = ks.metrics.MeanSquaredError()\n",
        "    m.update_state(y, y_pred)\n",
        "    return m.result().numpy()\n",
        "\n",
        "def compute_metrics(original, noisy, metrics):\n",
        "    results = {}\n",
        "    for name, metric in metrics.items():\n",
        "        results[name] = metric(original, noisy)\n",
        "    return results\n",
        "\n",
        "def evaluate_model(model, x, y, metrics):\n",
        "    y_pred = model.predict(x) \n",
        "    x = x.astype('float32')\n",
        "    y_pred = y_pred.astype('float32')\n",
        "    y = y.astype('float32')\n",
        "  \n",
        "    results = mse(y,y_pred)\n",
        "    return results\n"
      ]
    },
    {
      "cell_type": "code",
      "execution_count": 28,
      "metadata": {
        "colab": {
          "base_uri": "https://localhost:8080/"
        },
        "id": "nYbS1s6sf3Xd",
        "outputId": "62474bac-7c85-45e9-8ab5-8960c37931be"
      },
      "outputs": [
        {
          "name": "stdout",
          "output_type": "stream",
          "text": [
            "[0.0004455631, 0.00044086485, 0.00043797263, 0.00043911606, 0.0004400878, 0.0004386296, 0.0004382626, 0.00043205376, 0.0004392267, 0.0004396286]\n",
            "mean:  0.00043914057\n",
            "std:  3.1302498e-06\n"
          ]
        }
      ],
      "source": [
        "results = []\n",
        "for i in range(10):\n",
        "  x, y = next(test_generator)\n",
        "  results.append(evaluate_model(model, x, y, mse))\n",
        "\n",
        "print(results)\n",
        "\n",
        "print(\"mean: \", np.mean(results))\n",
        "print(\"std: \", np.std(results))"
      ]
    },
    {
      "cell_type": "markdown",
      "metadata": {
        "id": "soX1icCPhrNm"
      },
      "source": [
        "In cocnlusion, with the double U-Net I reached very good values in terms of mean-squared-error and standard deviation indeed they are very small values. \n",
        "Furthermore, during various attempts I noticed how, by reloading the weights and performing new training sessions, the results improve reaching even the best value of mse equal to `3.8e-04` but then the network starts overfitting."
      ]
    }
  ],
  "metadata": {
    "accelerator": "GPU",
    "colab": {
      "machine_shape": "hm",
      "name": "Edoardo Conca.ipynb",
      "provenance": []
    },
    "gpuClass": "standard",
    "kernelspec": {
      "display_name": "Python 3",
      "name": "python3"
    },
    "language_info": {
      "name": "python"
    }
  },
  "nbformat": 4,
  "nbformat_minor": 0
}
